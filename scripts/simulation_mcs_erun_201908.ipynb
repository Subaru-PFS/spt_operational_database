{
 "cells": [
  {
   "cell_type": "markdown",
   "metadata": {},
   "source": [
    "# simulation for MCS erun 201908 (in ICS)"
   ]
  },
  {
   "cell_type": "markdown",
   "metadata": {},
   "source": [
    "## Description:"
   ]
  },
  {
   "cell_type": "markdown",
   "metadata": {},
   "source": [
    "**Summary:**\n",
    "\n",
    "This notebook contains a script to run a closed loop simulation with MCS, pinhole mask, and opDB. \n",
    "\n",
    "**Requirements:**\n",
    "\n",
    "- Python 3\n",
    "- numpy\n",
    "- psycopg2\n",
    "- The latest version of the PFS datamodel\n",
    "    - see https://github.com/Subaru-PFS/datamodel\n",
    "\n",
    "**Note:**\n",
    "\n",
    "opDB is not a requirement, but the schema diagram is useful (see https://github.com/Subaru-PFS/spt_operational_database/tree/tickets/SURVEY-13)"
   ]
  },
  {
   "cell_type": "markdown",
   "metadata": {},
   "source": [
    "## load basic modules"
   ]
  },
  {
   "cell_type": "code",
   "execution_count": 1,
   "metadata": {},
   "outputs": [],
   "source": [
    "%matplotlib inline\n",
    "%load_ext autoreload\n",
    "%autoreload 2\n",
    "\n",
    "import sys, os\n",
    "import matplotlib.pyplot as plt\n",
    "import matplotlib.cm as cm\n",
    "from matplotlib.ticker import MultipleLocator\n",
    "from matplotlib.collections import PolyCollection\n",
    "import mpl_toolkits.axes_grid1\n",
    "import scipy as sp\n",
    "import numpy as np\n",
    "import datetime"
   ]
  },
  {
   "cell_type": "code",
   "execution_count": 2,
   "metadata": {},
   "outputs": [
    {
     "name": "stderr",
     "output_type": "stream",
     "text": [
      "/Users/kiyoyabe/tmp/PyFITS-3.5/pyfits/__init__.py:22: PyFITSDeprecationWarning: PyFITS is deprecated, please use astropy.io.fits\n",
      "  PyFITSDeprecationWarning)  # noqa\n"
     ]
    }
   ],
   "source": [
    "import opdb\n",
    "import pfs_sim_erun as erunsim"
   ]
  },
  {
   "cell_type": "markdown",
   "metadata": {},
   "source": [
    "## simple closed-loop simulation"
   ]
  },
  {
   "cell_type": "markdown",
   "metadata": {},
   "source": [
    "### preparation"
   ]
  },
  {
   "cell_type": "markdown",
   "metadata": {},
   "source": [
    "#### database connection"
   ]
  },
  {
   "cell_type": "code",
   "execution_count": 3,
   "metadata": {},
   "outputs": [],
   "source": [
    "hostname = 'hostname'      # <-- edit here\n",
    "port = '5432'              # <-- edit here\n",
    "dbname = 'mcs_erun_201908'\n",
    "username = 'pfs'\n",
    "passwd = 'password'        # <-- edit here"
   ]
  },
  {
   "cell_type": "code",
   "execution_count": 4,
   "metadata": {},
   "outputs": [
    {
     "name": "stdout",
     "output_type": "stream",
     "text": [
      "connected mcs_erun_201908\n"
     ]
    }
   ],
   "source": [
    "db = opdb.OpDB(hostname=hostname, port=port, dbname=dbname, username=username, passwd=passwd)\n",
    "db.connect()"
   ]
  },
  {
   "cell_type": "code",
   "execution_count": 5,
   "metadata": {},
   "outputs": [],
   "source": [
    "fiberPositions = db.get_all_fiber_position()\n",
    "cobraPositions = db.get_all_cobra_position()\n",
    "fiducialFiberPositions = db.get_all_fiducial_fiber_position()"
   ]
  },
  {
   "cell_type": "markdown",
   "metadata": {},
   "source": [
    "### initial setup"
   ]
  },
  {
   "cell_type": "code",
   "execution_count": 6,
   "metadata": {},
   "outputs": [
    {
     "name": "stdout",
     "output_type": "stream",
     "text": [
      "resetting ...\n",
      "... done\n"
     ]
    },
    {
     "data": {
      "text/plain": [
       "0"
      ]
     },
     "execution_count": 6,
     "metadata": {},
     "output_type": "execute_result"
    }
   ],
   "source": [
    "db.reset()"
   ]
  },
  {
   "cell_type": "markdown",
   "metadata": {},
   "source": [
    "#### insert info into `Proposal`, `Program`, `Tile`"
   ]
  },
  {
   "cell_type": "code",
   "execution_count": 7,
   "metadata": {},
   "outputs": [],
   "source": [
    "proposalId = 'o99999'\n",
    "\n",
    "programId = 1\n",
    "programName = 'MCS erun 201908'\n",
    "programDescription = 'MCS engineering run in August 2019'\n",
    "filler = False\n",
    "\n",
    "tile = 1\n",
    "tileId = programId * 10000 + tile\n",
    "raCenter = 0.0\n",
    "decCenter = 0.0\n",
    "pa = 0.0\n",
    "finished = False"
   ]
  },
  {
   "cell_type": "code",
   "execution_count": 8,
   "metadata": {},
   "outputs": [
    {
     "name": "stdout",
     "output_type": "stream",
     "text": [
      "insert into Proposal\n"
     ]
    }
   ],
   "source": [
    "db.insert_proposal(proposalId=proposalId)"
   ]
  },
  {
   "cell_type": "code",
   "execution_count": 9,
   "metadata": {},
   "outputs": [
    {
     "name": "stdout",
     "output_type": "stream",
     "text": [
      "insert into Program\n"
     ]
    }
   ],
   "source": [
    "db.insert_program(programId=programId, name=programName, description=programDescription, proposalId=proposalId, filler=filler)"
   ]
  },
  {
   "cell_type": "code",
   "execution_count": 10,
   "metadata": {},
   "outputs": [
    {
     "name": "stdout",
     "output_type": "stream",
     "text": [
      "insert into Tile\n"
     ]
    }
   ],
   "source": [
    "db.insert_tile(tileId=tileId, programId=programId, tile=tile, \n",
    "               raCenter=raCenter, decCenter=decCenter, pa=pa, \n",
    "               finished=finished)"
   ]
  },
  {
   "cell_type": "markdown",
   "metadata": {},
   "source": [
    "### Target selection"
   ]
  },
  {
   "cell_type": "markdown",
   "metadata": {},
   "source": [
    "#### preparation"
   ]
  },
  {
   "cell_type": "markdown",
   "metadata": {},
   "source": [
    "##### get fiber positions"
   ]
  },
  {
   "cell_type": "code",
   "execution_count": 11,
   "metadata": {},
   "outputs": [
    {
     "name": "stdout",
     "output_type": "stream",
     "text": [
      "# of fibers          : 1703\n",
      "# of cobras          : 1574\n",
      "# of fiducial fibers :  129\n"
     ]
    }
   ],
   "source": [
    "fiberPositions = db.get_all_fiber_position()\n",
    "cobraPositions = db.get_all_cobra_position()\n",
    "fiducialFiberPositions = db.get_all_fiducial_fiber_position()\n",
    "\n",
    "nFiber = len(fiberPositions['fiberId'])\n",
    "nCobra = len(cobraPositions['cobraId'])\n",
    "nFiducialFiber = len(fiducialFiberPositions['ffId'])\n",
    "\n",
    "print('# of fibers          : %4d' % (nFiber))\n",
    "print('# of cobras          : %4d' % (nCobra))\n",
    "print('# of fiducial fibers : %4d' % (nFiducialFiber))"
   ]
  },
  {
   "cell_type": "code",
   "execution_count": 12,
   "metadata": {},
   "outputs": [],
   "source": [
    "fiberIds = fiberPositions['fiberId']\n",
    "fp_ftype = fiberPositions['ftype']\n",
    "fp_x = fiberPositions['x']\n",
    "fp_y = fiberPositions['y']"
   ]
  },
  {
   "cell_type": "markdown",
   "metadata": {},
   "source": [
    "##### use fiber positions as target positions this time"
   ]
  },
  {
   "cell_type": "code",
   "execution_count": 13,
   "metadata": {},
   "outputs": [],
   "source": [
    "np.random.seed(0)\n",
    "\n",
    "msk_cobra = fp_ftype=='cobra'\n",
    "msk_ff = fp_ftype=='ff'\n",
    "\n",
    "objIds = np.arange(nFiber) + 1\n",
    "ras = raCenter + np.random.uniform(-0.5, +0.5, nFiber)\n",
    "decs = raCenter + np.random.uniform(-0.5, +0.5, nFiber)\n",
    "tracts = np.array([12345 for i in range(nFiber)], dtype='i4')\n",
    "patches = np.array(['0,0' for i in range(nFiber)], dtype='U5')\n",
    "priorities = np.array([1.0 for i in range(nFiber)], dtype='f4')\n",
    "targetTypeIds = np.empty(nFiber, dtype='i4')\n",
    "targetTypeIds[msk_cobra] = 1\n",
    "targetTypeIds[msk_ff] = 2\n",
    "catIds = np.array([1 for i in range(nFiber)], dtype='i4')\n",
    "catObjIds = objIds.copy()\n",
    "fiberMags_g = np.array([99.0 for i in range(nFiber)], dtype='f4')\n",
    "fiberMags_r = np.array([99.0 for i in range(nFiber)], dtype='f4')\n",
    "fiberMags_i = np.array([99.0 for i in range(nFiber)], dtype='f4')\n",
    "fiberMags_z = np.array([99.0 for i in range(nFiber)], dtype='f4')\n",
    "fiberMags_y = np.array([99.0 for i in range(nFiber)], dtype='f4')\n",
    "fiberMags_j = np.array([99.0 for i in range(nFiber)], dtype='f4')\n",
    "fiducialExptimes = np.array([900. for i in range(nFiber)], dtype='f4')\n",
    "photzs = np.array([0.0 for i in range(nFiber)], dtype='f4')\n",
    "mediumResolutions = np.array([False for i in range(nFiber)], dtype='bool')\n",
    "QATypeIds = np.array([1 for i in range(nFiber)], dtype='i4')\n",
    "QALambdaMins = np.array([380. for i in range(nFiber)], dtype='f4')\n",
    "QALambdaMaxs = np.array([1260. for i in range(nFiber)], dtype='f4')\n",
    "QAThresholds = np.array([5.0 for i in range(nFiber)], dtype='f4')\n",
    "QALineFluxes = np.array([0.0 for i in range(nFiber)], dtype='f4')\n",
    "completenesses = np.array([0.0 for i in range(nFiber)], dtype='f4')\n",
    "finished = np.array([False for i in range(nFiber)], dtype='bool')\n",
    "#plt.scatter(ras, decs, marker='o', s=10, fc='red', ec='k')"
   ]
  },
  {
   "cell_type": "markdown",
   "metadata": {},
   "source": [
    "#### insert info into `Target`"
   ]
  },
  {
   "cell_type": "code",
   "execution_count": 14,
   "metadata": {},
   "outputs": [
    {
     "name": "stdout",
     "output_type": "stream",
     "text": [
      "insert into Target\n"
     ]
    }
   ],
   "source": [
    "db.insert_target(programId=programId, objId=objIds, ra=ras, dec=decs, tract=tracts, patch=patches, \n",
    "                 priority=priorities, targetTypeId=targetTypeIds, catId=catIds, catObjId=catObjIds, \n",
    "                 fiberMag_g=fiberMags_g, fiberMag_r=fiberMags_r, fiberMag_i=fiberMags_i, fiberMag_z=fiberMags_z, \n",
    "                 fiberMag_y=fiberMags_y, fiberMag_j=fiberMags_j, fiducialExptime=fiducialExptimes, photz=photzs, \n",
    "                 mediumResolution=mediumResolutions, QATypeId=QATypeIds, QALambdaMin=QALambdaMins, QALambdaMax=QALambdaMaxs, \n",
    "                 QAThreshold=QAThresholds, QALineFlux=QALineFluxes, completeness=completenesses, finished=finished)"
   ]
  },
  {
   "cell_type": "code",
   "execution_count": 15,
   "metadata": {},
   "outputs": [],
   "source": [
    "targetIds = db.get_targetId(programId=programId, objIds=objIds)"
   ]
  },
  {
   "cell_type": "markdown",
   "metadata": {},
   "source": [
    "### make `pfsDesign` and `pfsDesignFiber`"
   ]
  },
  {
   "cell_type": "markdown",
   "metadata": {},
   "source": [
    "#### preparation (make pfsDesign and pfsDesignId)"
   ]
  },
  {
   "cell_type": "code",
   "execution_count": 16,
   "metadata": {},
   "outputs": [
    {
     "name": "stdout",
     "output_type": "stream",
     "text": [
      "1277202677728382843\n"
     ]
    }
   ],
   "source": [
    "pfiNominal_x = fp_x.copy()\n",
    "pfiNominal_y = fp_y.copy()\n",
    "\n",
    "pfsDesign, pfsDesignId = erunsim.make_pfsDesign(raCenter, decCenter, fiberIds, tracts, patches, ras, decs, \n",
    "                                                catIds, objIds, targetTypeIds, fiberMags_g, \n",
    "                                                pfiNominal_x, pfiNominal_y)\n",
    "\n",
    "print(pfsDesignId)"
   ]
  },
  {
   "cell_type": "markdown",
   "metadata": {},
   "source": [
    "#### insert info into `pfsDesign`"
   ]
  },
  {
   "cell_type": "code",
   "execution_count": 17,
   "metadata": {},
   "outputs": [
    {
     "name": "stdout",
     "output_type": "stream",
     "text": [
      "insert into pfsDesign\n"
     ]
    }
   ],
   "source": [
    "db.insert_pfsDesign(pfsDesignId=pfsDesignId, tileId=tileId, \n",
    "                    raCenter=raCenter, decCenter=decCenter, paConfig=pa,\n",
    "                    numSciDesigned=nFiber, numCalDesigned=0, numSkyDesigned=0, numGuideStars=0,\n",
    "                    exptime=900., minExptime=900., etsVersion='1.0', etsAssigner='naive', etsExectime=datetime.datetime.now(),\n",
    "                    obsolete=False)"
   ]
  },
  {
   "cell_type": "markdown",
   "metadata": {},
   "source": [
    "#### insert info into `pfsDesignFiber`"
   ]
  },
  {
   "cell_type": "code",
   "execution_count": 18,
   "metadata": {},
   "outputs": [
    {
     "name": "stdout",
     "output_type": "stream",
     "text": [
      "insert into pfsDesignFiber\n"
     ]
    }
   ],
   "source": [
    "onSources = np.array([True for i in range(nFiber)], dtype='bool')\n",
    "etsPriorities = np.array([1 for i in range(nFiber)], dtype='i4')\n",
    "etsCostFunctions = np.array(['none' for i in range(nFiber)], dtype='U10')\n",
    "etsCobraMovements = np.array(['none' for i in range(nFiber)], dtype='U10')\n",
    "\n",
    "db.insert_pfsDesignFiber(pfsDesignId=pfsDesignId, fiberId=fiberIds, targetId=targetIds, tract=tracts, patch=patches, ra=ras, dec=decs,\n",
    "                         catId=catIds, objId=objIds, targetTypeId=targetTypeIds, fiberMag_g=fiberMags_g, fiberMag_r=fiberMags_r, \n",
    "                         fiberMag_i=fiberMags_i, fiberMag_z=fiberMags_z, fiberMag_y=fiberMags_y, fiberMag_j=fiberMags_j,\n",
    "                         etsPriority=etsPriorities, etsCostFunction=etsCostFunctions, etsCobraMovement=etsCobraMovements, \n",
    "                         pfiNominal_x=pfiNominal_x, pfiNominal_y=pfiNominal_y, onSource=onSources)"
   ]
  },
  {
   "cell_type": "markdown",
   "metadata": {},
   "source": [
    "### make (initial) `pfsConfig` and `pfsConfigFiber`"
   ]
  },
  {
   "cell_type": "markdown",
   "metadata": {},
   "source": [
    "#### preparation (define visit number)"
   ]
  },
  {
   "cell_type": "code",
   "execution_count": 19,
   "metadata": {},
   "outputs": [],
   "source": [
    "visit = 1234\n",
    "telEl = 90.\n",
    "insRot = 0.0"
   ]
  },
  {
   "cell_type": "markdown",
   "metadata": {},
   "source": [
    "#### insert info into `Visit`"
   ]
  },
  {
   "cell_type": "code",
   "execution_count": 20,
   "metadata": {},
   "outputs": [
    {
     "name": "stdout",
     "output_type": "stream",
     "text": [
      "insert into Visit\n"
     ]
    }
   ],
   "source": [
    "db.insert_visit(visit=visit, visitTypeId=1, description='mcs erun 201908')"
   ]
  },
  {
   "cell_type": "markdown",
   "metadata": {},
   "source": [
    "#### insert info into `pfsConfig`"
   ]
  },
  {
   "cell_type": "code",
   "execution_count": 21,
   "metadata": {},
   "outputs": [
    {
     "name": "stdout",
     "output_type": "stream",
     "text": [
      "insert into pfsConfig\n"
     ]
    }
   ],
   "source": [
    "db.insert_pfsConfig(pfsConfigId=None, pfsDesignId=pfsDesignId, visit0=visit, \n",
    "                    raCenter=raCenter, decCenter=decCenter, paConfig=pa, telEl=telEl, insRot=insRot,\n",
    "                    numSciAllocated=nFiber, numCalAllocated=0, numSkyAllocated=0, numGuideStars=0,\n",
    "                    exptime=900., minExptime=900., allocNumIter=0, allocElapsetime=0.0, allocRmsScatter=0.0, \n",
    "                    allocExectime=datetime.datetime.now(), observed=False)"
   ]
  },
  {
   "cell_type": "code",
   "execution_count": 22,
   "metadata": {},
   "outputs": [
    {
     "name": "stdout",
     "output_type": "stream",
     "text": [
      "1\n"
     ]
    }
   ],
   "source": [
    "pfsConfigId = db.get_pfsConfigId(pfsDesignId=pfsDesignId, visit0=visit)\n",
    "print(pfsConfigId)"
   ]
  },
  {
   "cell_type": "markdown",
   "metadata": {},
   "source": [
    "#### make pfsConfigFiberId"
   ]
  },
  {
   "cell_type": "code",
   "execution_count": 23,
   "metadata": {},
   "outputs": [
    {
     "name": "stdout",
     "output_type": "stream",
     "text": [
      "[4097 4098 4099 ... 5797 5798 5799]\n",
      "[   1    2    3 ... 1701 1702 1703]\n"
     ]
    }
   ],
   "source": [
    "pfsConfigFiberIds = (pfsConfigId << 12) + fiberIds\n",
    "print(pfsConfigFiberIds)\n",
    "print(fiberIds)"
   ]
  },
  {
   "cell_type": "markdown",
   "metadata": {},
   "source": [
    "#### insert info into `pfsConfigFiber`"
   ]
  },
  {
   "cell_type": "code",
   "execution_count": 24,
   "metadata": {},
   "outputs": [
    {
     "name": "stdout",
     "output_type": "stream",
     "text": [
      "insert into pfsConfigFiber\n"
     ]
    }
   ],
   "source": [
    "onSources = np.array([True for i in range(nFiber)], dtype='bool')\n",
    "pfiCenter_x = np.zeros(nFiber)\n",
    "pfiCenter_y = np.zeros(nFiber)\n",
    "pfiDiff_x = np.zeros(nFiber)\n",
    "pfiDiff_y = np.zeros(nFiber)\n",
    "mcsCenter_x = np.zeros(nFiber)\n",
    "mcsCenter_y = np.zeros(nFiber)\n",
    "motorMapSummary = np.array(['none' for i in range(nFiber)], dtype='U20')\n",
    "configTime = np.zeros(nFiber)\n",
    "\n",
    "db.insert_pfsConfigFiber(pfsConfigFiberId=pfsConfigFiberIds, pfsConfigId=pfsConfigId, fiberId=fiberIds, targetId=targetIds, \n",
    "                         tract=tracts, patch=patches, ra=ras, dec=decs, catId=catIds, objId=objIds, targetTypeId=targetTypeIds, \n",
    "                         fiberMag_g=fiberMags_g, fiberMag_r=fiberMags_r, fiberMag_i=fiberMags_i, fiberMag_z=fiberMags_z, \n",
    "                         fiberMag_y=fiberMags_y, fiberMag_j=fiberMags_j,\n",
    "                         pfiNominal_x=pfiNominal_x, pfiNominal_y=pfiNominal_y, pfiCenter_x=pfiCenter_x, pfiCenter_y=pfiCenter_y, \n",
    "                         pfiDiff_x=pfiDiff_x, pfiDiff_y=pfiDiff_y, mcsCenter_x=mcsCenter_x, mcsCenter_y=mcsCenter_y,\n",
    "                         motorMapSummary=motorMapSummary, configTime=configTime, onSource=onSources)\n"
   ]
  },
  {
   "cell_type": "markdown",
   "metadata": {},
   "source": [
    "### 0th configuration"
   ]
  },
  {
   "cell_type": "markdown",
   "metadata": {},
   "source": [
    "#### take MCS exposure"
   ]
  },
  {
   "cell_type": "code",
   "execution_count": 25,
   "metadata": {},
   "outputs": [],
   "source": [
    "## skipped ##"
   ]
  },
  {
   "cell_type": "markdown",
   "metadata": {},
   "source": [
    "#### get MCS results"
   ]
  },
  {
   "cell_type": "code",
   "execution_count": 26,
   "metadata": {},
   "outputs": [],
   "source": [
    "## results ##\n",
    "np.random.seed(0)\n",
    "\n",
    "datatime = datetime.datetime.now()\n",
    "frameId = 1\n",
    "moveId = 1\n",
    "fiberId_mcsData = fiberIds.copy()\n",
    "centroidx = np.zeros(nFiber) + np.random.uniform(0, 2048, nFiber)\n",
    "centroidy = np.zeros(nFiber) + np.random.uniform(0, 2048, nFiber)\n",
    "fwhmx = np.zeros(nFiber) + 3.0 + np.random.uniform(-0.5, +0.5, nFiber)\n",
    "fwhmy = np.zeros(nFiber) + 3.0 + np.random.uniform(-0.5, +0.5, nFiber)\n",
    "bgvalue = np.zeros(nFiber) + 1000. + np.random.uniform(-200., +200., nFiber)\n",
    "peakvalue = np.zeros(nFiber) + 2000. + np.random.uniform(-200., +200., nFiber)"
   ]
  },
  {
   "cell_type": "markdown",
   "metadata": {},
   "source": [
    "#### insert info into `mcsData`"
   ]
  },
  {
   "cell_type": "code",
   "execution_count": 27,
   "metadata": {},
   "outputs": [
    {
     "name": "stdout",
     "output_type": "stream",
     "text": [
      "insert into mcsData\n"
     ]
    }
   ],
   "source": [
    "db.insert_mcsData(datatime=datatime, frameId=frameId, moveId=moveId, fiberId=fiberId_mcsData, \n",
    "                  centroidx=centroidx, centroidy=centroidy, fwhmx=fwhmx, fwhmy=fwhmy, \n",
    "                  bgvalue=bgvalue, peakvalue=peakvalue)"
   ]
  },
  {
   "cell_type": "markdown",
   "metadata": {},
   "source": [
    "#### insert info into `CobraConfig`"
   ]
  },
  {
   "cell_type": "code",
   "execution_count": 28,
   "metadata": {},
   "outputs": [],
   "source": [
    "np.random.seed(0)\n",
    "\n",
    "mcsIds, mcsCenter_x, mcsCenter_y = db.get_mcsCenter(frameId, fiberIds)\n",
    "\n",
    "## PFI info ##\n",
    "iteration = 0\n",
    "exectime = datetime.datetime.now()\n",
    "pfiCenter_x = pfiNominal_x + np.random.uniform(-1.0, +1.0, nFiber)\n",
    "pfiCenter_y = pfiNominal_y + np.random.uniform(-1.0, +1.0, nFiber)\n",
    "pfiDiff_x = pfiCenter_x - pfiNominal_x\n",
    "pfiDiff_y = pfiCenter_y - pfiNominal_y\n",
    "motorNumStepTheta = np.random.randint(100, 1000, nFiber)\n",
    "motorNumStepPhi = np.random.randint(100, 1000, nFiber)\n",
    "\n",
    "#plt.scatter(pfiDiff_x, pfiDiff_y, marker='o', s=10, fc='red', ec='k')\n",
    "\n",
    "exectime_start = exectime"
   ]
  },
  {
   "cell_type": "code",
   "execution_count": 29,
   "metadata": {},
   "outputs": [
    {
     "name": "stdout",
     "output_type": "stream",
     "text": [
      "insert into CobraConfig\n"
     ]
    }
   ],
   "source": [
    "db.insert_CobraConfig(pfsConfigFiberId=pfsConfigFiberIds, pfsConfigId=pfsConfigId, fiberId=fiberIds, iteration=iteration,\n",
    "                      motorNumStepTheta=motorNumStepTheta, motorNumStepPhi=motorNumStepPhi, mcsId=mcsIds,\n",
    "                      pfiNominal_x=pfiNominal_x, pfiNominal_y=pfiNominal_y, pfiCenter_x=pfiCenter_x, pfiCenter_y=pfiCenter_y,\n",
    "                      pfiDiff_x=pfiDiff_x, pfiDiff_y=pfiDiff_y, mcsCenter_x=mcsCenter_x, mcsCenter_y=mcsCenter_y,\n",
    "                      exectime=exectime\n",
    "                     )"
   ]
  },
  {
   "cell_type": "markdown",
   "metadata": {},
   "source": [
    "### 1st configuration"
   ]
  },
  {
   "cell_type": "markdown",
   "metadata": {},
   "source": [
    "#### move cobra"
   ]
  },
  {
   "cell_type": "code",
   "execution_count": 30,
   "metadata": {},
   "outputs": [],
   "source": [
    "## skipped"
   ]
  },
  {
   "cell_type": "markdown",
   "metadata": {},
   "source": [
    "#### take MCS exposure"
   ]
  },
  {
   "cell_type": "code",
   "execution_count": 31,
   "metadata": {},
   "outputs": [],
   "source": [
    "## skipped"
   ]
  },
  {
   "cell_type": "markdown",
   "metadata": {},
   "source": [
    "#### get MCS results"
   ]
  },
  {
   "cell_type": "code",
   "execution_count": 32,
   "metadata": {},
   "outputs": [],
   "source": [
    "## results ##\n",
    "np.random.seed(1)\n",
    "\n",
    "datatime = datetime.datetime.now()\n",
    "frameId = 2\n",
    "moveId = 1\n",
    "fiberId_mcsData = fiberIds.copy()\n",
    "centroidx = np.zeros(nFiber) + np.random.uniform(0, 2048, nFiber)\n",
    "centroidy = np.zeros(nFiber) + np.random.uniform(0, 2048, nFiber)\n",
    "fwhmx = np.zeros(nFiber) + 3.0 + np.random.uniform(-0.5, +0.5, nFiber)\n",
    "fwhmy = np.zeros(nFiber) + 3.0 + np.random.uniform(-0.5, +0.5, nFiber)\n",
    "bgvalue = np.zeros(nFiber) + 1000. + np.random.uniform(-200., +200., nFiber)\n",
    "peakvalue = np.zeros(nFiber) + 2000. + np.random.uniform(-200., +200., nFiber)"
   ]
  },
  {
   "cell_type": "markdown",
   "metadata": {},
   "source": [
    "#### insert info into `mcsData`"
   ]
  },
  {
   "cell_type": "code",
   "execution_count": 33,
   "metadata": {},
   "outputs": [
    {
     "name": "stdout",
     "output_type": "stream",
     "text": [
      "insert into mcsData\n"
     ]
    }
   ],
   "source": [
    "db.insert_mcsData(datatime=datatime, frameId=frameId, moveId=moveId, fiberId=fiberId_mcsData, \n",
    "                  centroidx=centroidx, centroidy=centroidy, fwhmx=fwhmx, fwhmy=fwhmy, \n",
    "                  bgvalue=bgvalue, peakvalue=peakvalue)"
   ]
  },
  {
   "cell_type": "markdown",
   "metadata": {},
   "source": [
    "#### insert info into `CobraConfig`"
   ]
  },
  {
   "cell_type": "code",
   "execution_count": 34,
   "metadata": {},
   "outputs": [],
   "source": [
    "np.random.seed(1)\n",
    "\n",
    "mcsIds, mcsCenter_x, mcsCenter_y = db.get_mcsCenter(frameId, fiberIds)\n",
    "\n",
    "## PFI info ##\n",
    "iteration = 1\n",
    "exectime = datetime.datetime.now()\n",
    "pfiCenter_x = pfiNominal_x + np.random.uniform(-1.0, +1.0, nFiber)\n",
    "pfiCenter_y = pfiNominal_y + np.random.uniform(-1.0, +1.0, nFiber)\n",
    "pfiDiff_x = pfiCenter_x - pfiNominal_x\n",
    "pfiDiff_y = pfiCenter_y - pfiNominal_y\n",
    "motorNumStepTheta = np.random.randint(100, 1000, nFiber)\n",
    "motorNumStepPhi = np.random.randint(100, 1000, nFiber)\n",
    "\n",
    "#plt.scatter(pfiDiff_x, pfiDiff_y, marker='o', s=10, fc='red', ec='k')"
   ]
  },
  {
   "cell_type": "code",
   "execution_count": 35,
   "metadata": {},
   "outputs": [
    {
     "name": "stdout",
     "output_type": "stream",
     "text": [
      "insert into CobraConfig\n"
     ]
    }
   ],
   "source": [
    "db.insert_CobraConfig(pfsConfigFiberId=pfsConfigFiberIds, pfsConfigId=pfsConfigId, fiberId=fiberIds, iteration=iteration,\n",
    "                      motorNumStepTheta=motorNumStepTheta, motorNumStepPhi=motorNumStepPhi, mcsId=mcsIds,\n",
    "                      pfiNominal_x=pfiNominal_x, pfiNominal_y=pfiNominal_y, pfiCenter_x=pfiCenter_x, pfiCenter_y=pfiCenter_y,\n",
    "                      pfiDiff_x=pfiDiff_x, pfiDiff_y=pfiDiff_y, mcsCenter_x=mcsCenter_x, mcsCenter_y=mcsCenter_y,\n",
    "                      exectime=exectime\n",
    "                     )"
   ]
  },
  {
   "cell_type": "markdown",
   "metadata": {},
   "source": [
    "### 2nd configuration"
   ]
  },
  {
   "cell_type": "markdown",
   "metadata": {},
   "source": [
    "#### move cobra"
   ]
  },
  {
   "cell_type": "code",
   "execution_count": 36,
   "metadata": {},
   "outputs": [],
   "source": [
    "## skipped"
   ]
  },
  {
   "cell_type": "markdown",
   "metadata": {},
   "source": [
    "#### take MCS exposure"
   ]
  },
  {
   "cell_type": "code",
   "execution_count": 37,
   "metadata": {},
   "outputs": [],
   "source": [
    "## skipped"
   ]
  },
  {
   "cell_type": "markdown",
   "metadata": {},
   "source": [
    "#### get MCS results"
   ]
  },
  {
   "cell_type": "code",
   "execution_count": 38,
   "metadata": {},
   "outputs": [],
   "source": [
    "## results ##\n",
    "np.random.seed(2)\n",
    "\n",
    "datatime = datetime.datetime.now()\n",
    "frameId = 3\n",
    "moveId = 1\n",
    "fiberId_mcsData = fiberIds.copy()\n",
    "centroidx = np.zeros(nFiber) + np.random.uniform(0, 2048, nFiber)\n",
    "centroidy = np.zeros(nFiber) + np.random.uniform(0, 2048, nFiber)\n",
    "fwhmx = np.zeros(nFiber) + 3.0 + np.random.uniform(-0.5, +0.5, nFiber)\n",
    "fwhmy = np.zeros(nFiber) + 3.0 + np.random.uniform(-0.5, +0.5, nFiber)\n",
    "bgvalue = np.zeros(nFiber) + 1000. + np.random.uniform(-200., +200., nFiber)\n",
    "peakvalue = np.zeros(nFiber) + 2000. + np.random.uniform(-200., +200., nFiber)"
   ]
  },
  {
   "cell_type": "markdown",
   "metadata": {},
   "source": [
    "#### insert info into `mcsData`"
   ]
  },
  {
   "cell_type": "code",
   "execution_count": 39,
   "metadata": {},
   "outputs": [
    {
     "name": "stdout",
     "output_type": "stream",
     "text": [
      "insert into mcsData\n"
     ]
    }
   ],
   "source": [
    "db.insert_mcsData(datatime=datatime, frameId=frameId, moveId=moveId, fiberId=fiberId_mcsData, \n",
    "                  centroidx=centroidx, centroidy=centroidy, fwhmx=fwhmx, fwhmy=fwhmy, \n",
    "                  bgvalue=bgvalue, peakvalue=peakvalue)"
   ]
  },
  {
   "cell_type": "markdown",
   "metadata": {},
   "source": [
    "#### insert info into `CobraConfig`"
   ]
  },
  {
   "cell_type": "code",
   "execution_count": 40,
   "metadata": {},
   "outputs": [],
   "source": [
    "np.random.seed(2)\n",
    "\n",
    "mcsIds, mcsCenter_x, mcsCenter_y = db.get_mcsCenter(frameId, fiberIds)\n",
    "\n",
    "## PFI info ##\n",
    "iteration = 2\n",
    "exectime = datetime.datetime.now()\n",
    "pfiCenter_x = pfiNominal_x + np.random.uniform(-1.0, +1.0, nFiber)\n",
    "pfiCenter_y = pfiNominal_y + np.random.uniform(-1.0, +1.0, nFiber)\n",
    "pfiDiff_x = pfiCenter_x - pfiNominal_x\n",
    "pfiDiff_y = pfiCenter_y - pfiNominal_y\n",
    "motorNumStepTheta = np.random.randint(100, 1000, nFiber)\n",
    "motorNumStepPhi = np.random.randint(100, 1000, nFiber)\n",
    "\n",
    "#plt.scatter(pfiDiff_x, pfiDiff_y, marker='o', s=10, fc='red', ec='k')"
   ]
  },
  {
   "cell_type": "code",
   "execution_count": 41,
   "metadata": {},
   "outputs": [
    {
     "name": "stdout",
     "output_type": "stream",
     "text": [
      "insert into CobraConfig\n"
     ]
    }
   ],
   "source": [
    "db.insert_CobraConfig(pfsConfigFiberId=pfsConfigFiberIds, pfsConfigId=pfsConfigId, fiberId=fiberIds, iteration=iteration,\n",
    "                      motorNumStepTheta=motorNumStepTheta, motorNumStepPhi=motorNumStepPhi, mcsId=mcsIds,\n",
    "                      pfiNominal_x=pfiNominal_x, pfiNominal_y=pfiNominal_y, pfiCenter_x=pfiCenter_x, pfiCenter_y=pfiCenter_y,\n",
    "                      pfiDiff_x=pfiDiff_x, pfiDiff_y=pfiDiff_y, mcsCenter_x=mcsCenter_x, mcsCenter_y=mcsCenter_y,\n",
    "                      exectime=exectime\n",
    "                     )"
   ]
  },
  {
   "cell_type": "code",
   "execution_count": 42,
   "metadata": {},
   "outputs": [],
   "source": [
    "exectime_end = datetime.datetime.now()"
   ]
  },
  {
   "cell_type": "markdown",
   "metadata": {},
   "source": [
    "### make (final) pfsConfig and pfsConfigFiber"
   ]
  },
  {
   "cell_type": "markdown",
   "metadata": {},
   "source": [
    "#### preparation (make pfsConfig)"
   ]
  },
  {
   "cell_type": "code",
   "execution_count": 43,
   "metadata": {},
   "outputs": [],
   "source": [
    "pfsConfig = erunsim.make_pfsConfig(pfsDesignId, visit, fiberIds, tracts, patches, ras, decs, \n",
    "                                   catIds, objIds, targetTypeIds, fiberMags_g, \n",
    "                                   pfiNominal_x, pfiNominal_y, pfiCenter_x, pfiCenter_y)"
   ]
  },
  {
   "cell_type": "code",
   "execution_count": 44,
   "metadata": {},
   "outputs": [
    {
     "name": "stdout",
     "output_type": "stream",
     "text": [
      "iteration=2, elapsetime=44.1 (sec.)\n"
     ]
    }
   ],
   "source": [
    "allocNumIter = iteration\n",
    "allocElapsetime = exectime_end - exectime_start\n",
    "print('iteration=%d, elapsetime=%.1f (sec.)' % (allocNumIter, allocElapsetime.total_seconds()))"
   ]
  },
  {
   "cell_type": "markdown",
   "metadata": {},
   "source": [
    "#### update `pfsConfig`"
   ]
  },
  {
   "cell_type": "code",
   "execution_count": 45,
   "metadata": {},
   "outputs": [
    {
     "name": "stdout",
     "output_type": "stream",
     "text": [
      "update pfsConfig\n"
     ]
    }
   ],
   "source": [
    "db.insert_pfsConfig(pfsConfigId=pfsConfigId, pfsDesignId=pfsDesignId, visit0=visit, \n",
    "                    raCenter=raCenter, decCenter=decCenter, paConfig=pa, telEl=90.0, insRot=0.0,\n",
    "                    numSciAllocated=nFiber, numCalAllocated=0, numSkyAllocated=0, numGuideStars=0,\n",
    "                    exptime=900., minExptime=900., \n",
    "                    allocNumIter=allocNumIter, allocElapsetime=allocElapsetime.total_seconds(), allocRmsScatter=0.0, \n",
    "                    allocExectime=datetime.datetime.now(), observed=False)"
   ]
  },
  {
   "cell_type": "markdown",
   "metadata": {},
   "source": [
    "#### update `pfsConfigFiber` (may takes a few minitues depending on network environment)"
   ]
  },
  {
   "cell_type": "code",
   "execution_count": 46,
   "metadata": {},
   "outputs": [
    {
     "name": "stdout",
     "output_type": "stream",
     "text": [
      "update pfsConfigFiber\n"
     ]
    }
   ],
   "source": [
    "onSources = np.array([True for i in range(nFiber)], dtype='bool')\n",
    "motorMapSummary = np.array(['moved' for i in range(nFiber)], dtype='U20')\n",
    "configTime = np.array([allocElapsetime.total_seconds() for i in range(nFiber)], dtype='f4')\n",
    "\n",
    "db.insert_pfsConfigFiber(pfsConfigFiberId=pfsConfigFiberIds, pfsConfigId=pfsConfigId, fiberId=fiberIds, targetId=targetIds, \n",
    "                         tract=tracts, patch=patches, ra=ras, dec=decs, catId=catIds, objId=objIds, targetTypeId=targetTypeIds, \n",
    "                         fiberMag_g=fiberMags_g, fiberMag_r=fiberMags_r, fiberMag_i=fiberMags_i, fiberMag_z=fiberMags_z, \n",
    "                         fiberMag_y=fiberMags_y, fiberMag_j=fiberMags_j,\n",
    "                         pfiNominal_x=pfiNominal_x, pfiNominal_y=pfiNominal_y, pfiCenter_x=pfiCenter_x, pfiCenter_y=pfiCenter_y, \n",
    "                         pfiDiff_x=pfiDiff_x, pfiDiff_y=pfiDiff_y, mcsCenter_x=mcsCenter_x, mcsCenter_y=mcsCenter_y,\n",
    "                         motorMapSummary=motorMapSummary, configTime=configTime, onSource=onSources)\n"
   ]
  },
  {
   "cell_type": "markdown",
   "metadata": {},
   "source": [
    "### close database"
   ]
  },
  {
   "cell_type": "code",
   "execution_count": 47,
   "metadata": {},
   "outputs": [
    {
     "name": "stdout",
     "output_type": "stream",
     "text": [
      "closed mcs_erun_201908\n"
     ]
    }
   ],
   "source": [
    "db.close()"
   ]
  },
  {
   "cell_type": "code",
   "execution_count": null,
   "metadata": {},
   "outputs": [],
   "source": []
  }
 ],
 "metadata": {
  "kernelspec": {
   "display_name": "Python 3",
   "language": "python",
   "name": "python3"
  },
  "language_info": {
   "codemirror_mode": {
    "name": "ipython",
    "version": 3
   },
   "file_extension": ".py",
   "mimetype": "text/x-python",
   "name": "python",
   "nbconvert_exporter": "python",
   "pygments_lexer": "ipython3",
   "version": "3.7.3"
  },
  "toc-showcode": false,
  "toc-showtags": false
 },
 "nbformat": 4,
 "nbformat_minor": 4
}
