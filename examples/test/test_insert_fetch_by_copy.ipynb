{
 "cells": [
  {
   "cell_type": "markdown",
   "metadata": {},
   "source": [
    "# test insert/fetch by `COPY`"
   ]
  },
  {
   "cell_type": "code",
   "execution_count": 1,
   "metadata": {},
   "outputs": [],
   "source": [
    "import time\n",
    "import io\n",
    "import datetime\n",
    "import pandas as pd\n",
    "from opdb import models,utils,manage,opdb"
   ]
  },
  {
   "cell_type": "markdown",
   "metadata": {},
   "source": [
    "## database info"
   ]
  },
  {
   "cell_type": "code",
   "execution_count": 2,
   "metadata": {},
   "outputs": [],
   "source": [
    "hostname=''\n",
    "port=''\n",
    "dbname=''\n",
    "username=''\n",
    "passwd=''"
   ]
  },
  {
   "cell_type": "code",
   "execution_count": 3,
   "metadata": {},
   "outputs": [],
   "source": [
    "url='postgresql://%s:%s@%s:%s/%s' % (username, passwd, hostname, port, dbname)"
   ]
  },
  {
   "cell_type": "markdown",
   "metadata": {},
   "source": [
    "## test insert"
   ]
  },
  {
   "cell_type": "code",
   "execution_count": 4,
   "metadata": {},
   "outputs": [],
   "source": [
    "n_record = 1000"
   ]
  },
  {
   "cell_type": "markdown",
   "metadata": {},
   "source": [
    "### test `insert`"
   ]
  },
  {
   "cell_type": "code",
   "execution_count": 5,
   "metadata": {},
   "outputs": [
    {
     "data": {
      "text/html": [
       "<div>\n",
       "<style scoped>\n",
       "    .dataframe tbody tr th:only-of-type {\n",
       "        vertical-align: middle;\n",
       "    }\n",
       "\n",
       "    .dataframe tbody tr th {\n",
       "        vertical-align: top;\n",
       "    }\n",
       "\n",
       "    .dataframe thead th {\n",
       "        text-align: right;\n",
       "    }\n",
       "</style>\n",
       "<table border=\"1\" class=\"dataframe\">\n",
       "  <thead>\n",
       "    <tr style=\"text-align: right;\">\n",
       "      <th></th>\n",
       "      <th>proposal_id</th>\n",
       "      <th>created_at</th>\n",
       "      <th>updated_at</th>\n",
       "    </tr>\n",
       "  </thead>\n",
       "  <tbody>\n",
       "    <tr>\n",
       "      <th>0</th>\n",
       "      <td>o000001</td>\n",
       "      <td>2021-07-13 11:09:29.358867</td>\n",
       "      <td>2021-07-13 11:09:29.359528</td>\n",
       "    </tr>\n",
       "    <tr>\n",
       "      <th>1</th>\n",
       "      <td>o000002</td>\n",
       "      <td>2021-07-13 11:09:29.358870</td>\n",
       "      <td>2021-07-13 11:09:29.359529</td>\n",
       "    </tr>\n",
       "    <tr>\n",
       "      <th>2</th>\n",
       "      <td>o000003</td>\n",
       "      <td>2021-07-13 11:09:29.358870</td>\n",
       "      <td>2021-07-13 11:09:29.359530</td>\n",
       "    </tr>\n",
       "    <tr>\n",
       "      <th>3</th>\n",
       "      <td>o000004</td>\n",
       "      <td>2021-07-13 11:09:29.358871</td>\n",
       "      <td>2021-07-13 11:09:29.359531</td>\n",
       "    </tr>\n",
       "    <tr>\n",
       "      <th>4</th>\n",
       "      <td>o000005</td>\n",
       "      <td>2021-07-13 11:09:29.358872</td>\n",
       "      <td>2021-07-13 11:09:29.359531</td>\n",
       "    </tr>\n",
       "  </tbody>\n",
       "</table>\n",
       "</div>"
      ],
      "text/plain": [
       "  proposal_id                 created_at                 updated_at\n",
       "0     o000001 2021-07-13 11:09:29.358867 2021-07-13 11:09:29.359528\n",
       "1     o000002 2021-07-13 11:09:29.358870 2021-07-13 11:09:29.359529\n",
       "2     o000003 2021-07-13 11:09:29.358870 2021-07-13 11:09:29.359530\n",
       "3     o000004 2021-07-13 11:09:29.358871 2021-07-13 11:09:29.359531\n",
       "4     o000005 2021-07-13 11:09:29.358872 2021-07-13 11:09:29.359531"
      ]
     },
     "execution_count": 5,
     "metadata": {},
     "output_type": "execute_result"
    }
   ],
   "source": [
    "df = pd.DataFrame({'proposal_id': ['o%06d' % (n+1) for n in range(n_record)], \n",
    "                   'created_at': [datetime.datetime.now() for n in range(n_record)], \n",
    "                   'updated_at': [datetime.datetime.now() for n in range(n_record)]}\n",
    "                 )\n",
    "df[:5]"
   ]
  },
  {
   "cell_type": "code",
   "execution_count": 6,
   "metadata": {},
   "outputs": [],
   "source": [
    "db = opdb.OpDB(hostname=hostname, port=port, dbname=dbname, username=username, passwd=passwd)\n",
    "db.connect()\n",
    "db.reset(full=True)\n",
    "db.close()"
   ]
  },
  {
   "cell_type": "code",
   "execution_count": 7,
   "metadata": {},
   "outputs": [
    {
     "name": "stdout",
     "output_type": "stream",
     "text": [
      "elapsed_time:248.8731997013092[sec]\n"
     ]
    }
   ],
   "source": [
    "start = time.time()\n",
    "\n",
    "tab = 'proposal'\n",
    "try:\n",
    "    utils.insert(url, tab, df)\n",
    "except:\n",
    "    utils.update(url, tab, df)\n",
    "    \n",
    "elapsed_time = time.time() - start\n",
    "print (\"elapsed_time:{0}\".format(elapsed_time) + \"[sec]\")"
   ]
  },
  {
   "cell_type": "markdown",
   "metadata": {},
   "source": [
    "### test `insert_by_copy`"
   ]
  },
  {
   "cell_type": "code",
   "execution_count": 8,
   "metadata": {},
   "outputs": [],
   "source": [
    "data = io.StringIO()\n",
    "for n in range(n_record):\n",
    "    data.write('o%06d,' % (n+1))\n",
    "    data.write('%s,' % (datetime.datetime.now()))\n",
    "    data.write('%s\\n' % (datetime.datetime.now()))\n",
    "    \n",
    "data.seek(0)\n",
    "\n",
    "colnames = ('proposal_id',\n",
    "            'created_at',\n",
    "            'updated_at'\n",
    "           )"
   ]
  },
  {
   "cell_type": "code",
   "execution_count": 9,
   "metadata": {},
   "outputs": [],
   "source": [
    "db = opdb.OpDB(hostname=hostname, port=port, dbname=dbname, username=username, passwd=passwd)\n",
    "db.connect()\n",
    "db.reset(full=True)\n",
    "db.close()"
   ]
  },
  {
   "cell_type": "code",
   "execution_count": 10,
   "metadata": {},
   "outputs": [
    {
     "name": "stdout",
     "output_type": "stream",
     "text": [
      "elapsed_time:5.2995829582214355[sec]\n"
     ]
    }
   ],
   "source": [
    "start = time.time()\n",
    "\n",
    "tab = 'proposal'\n",
    "try:\n",
    "    utils.insert_by_copy(url, tab, data, colnames)\n",
    "except:\n",
    "    print('error...')    \n",
    "\n",
    "elapsed_time = time.time() - start\n",
    "print (\"elapsed_time:{0}\".format(elapsed_time) + \"[sec]\")    "
   ]
  },
  {
   "cell_type": "markdown",
   "metadata": {},
   "source": [
    "## test fetch"
   ]
  },
  {
   "cell_type": "code",
   "execution_count": 11,
   "metadata": {},
   "outputs": [],
   "source": [
    "tab = 'proposal'"
   ]
  },
  {
   "cell_type": "code",
   "execution_count": 12,
   "metadata": {},
   "outputs": [],
   "source": [
    "colnames = ('proposal_id',\n",
    "            'created_at',\n",
    "            'updated_at'\n",
    "           )"
   ]
  },
  {
   "cell_type": "markdown",
   "metadata": {},
   "source": [
    "### test `fetch`"
   ]
  },
  {
   "cell_type": "code",
   "execution_count": 13,
   "metadata": {},
   "outputs": [
    {
     "name": "stdout",
     "output_type": "stream",
     "text": [
      "elapsed_time:4.901716947555542[sec]\n"
     ]
    }
   ],
   "source": [
    "start = time.time()\n",
    "\n",
    "df = utils.fetch_all(url, tab)\n",
    "\n",
    "elapsed_time = time.time() - start\n",
    "print (\"elapsed_time:{0}\".format(elapsed_time) + \"[sec]\")    "
   ]
  },
  {
   "cell_type": "markdown",
   "metadata": {},
   "source": [
    "### test `fetch_by_copy`"
   ]
  },
  {
   "cell_type": "code",
   "execution_count": 14,
   "metadata": {},
   "outputs": [
    {
     "name": "stdout",
     "output_type": "stream",
     "text": [
      "elapsed_time:4.595918893814087[sec]\n"
     ]
    }
   ],
   "source": [
    "start = time.time()\n",
    "\n",
    "res = utils.fetch_by_copy(url, tab, colnames)\n",
    "\n",
    "elapsed_time = time.time() - start\n",
    "print (\"elapsed_time:{0}\".format(elapsed_time) + \"[sec]\")    "
   ]
  },
  {
   "cell_type": "code",
   "execution_count": null,
   "metadata": {},
   "outputs": [],
   "source": []
  },
  {
   "cell_type": "code",
   "execution_count": null,
   "metadata": {},
   "outputs": [],
   "source": []
  },
  {
   "cell_type": "code",
   "execution_count": null,
   "metadata": {},
   "outputs": [],
   "source": []
  },
  {
   "cell_type": "code",
   "execution_count": null,
   "metadata": {},
   "outputs": [],
   "source": []
  }
 ],
 "metadata": {
  "kernelspec": {
   "display_name": "Python 3",
   "language": "python",
   "name": "python3"
  },
  "language_info": {
   "codemirror_mode": {
    "name": "ipython",
    "version": 3
   },
   "file_extension": ".py",
   "mimetype": "text/x-python",
   "name": "python",
   "nbconvert_exporter": "python",
   "pygments_lexer": "ipython3",
   "version": "3.7.6"
  }
 },
 "nbformat": 4,
 "nbformat_minor": 4
}
