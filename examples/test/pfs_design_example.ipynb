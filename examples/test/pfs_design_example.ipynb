{
 "cells": [
  {
   "cell_type": "markdown",
   "metadata": {},
   "source": [
    "# code example for INSTRM-1143"
   ]
  },
  {
   "cell_type": "code",
   "execution_count": 1,
   "metadata": {},
   "outputs": [],
   "source": [
    "%matplotlib inline\n",
    "%load_ext autoreload\n",
    "%autoreload 2\n",
    "\n",
    "import sys\n",
    "import numpy as np\n",
    "import datetime\n",
    "import pandas as pd\n",
    "import matplotlib.pyplot as plt"
   ]
  },
  {
   "cell_type": "code",
   "execution_count": 2,
   "metadata": {},
   "outputs": [],
   "source": [
    "from opdb import models,utils,manage"
   ]
  },
  {
   "cell_type": "code",
   "execution_count": 3,
   "metadata": {},
   "outputs": [],
   "source": [
    "''' EDIT BELOW '''\n",
    "hostname='hostname'\n",
    "port='port'\n",
    "dbname='dbname'\n",
    "username='username'\n",
    "passwd='passwd'"
   ]
  },
  {
   "cell_type": "code",
   "execution_count": 4,
   "metadata": {},
   "outputs": [],
   "source": [
    "url='postgresql://%s:%s@%s:%s/%s' % (username, passwd, hostname, port, dbname)"
   ]
  },
  {
   "cell_type": "markdown",
   "metadata": {},
   "source": [
    "## insert some basic information (SKIP THIS IF ALREADY POPULATED!)"
   ]
  },
  {
   "cell_type": "markdown",
   "metadata": {},
   "source": [
    "### insert into `proposal`"
   ]
  },
  {
   "cell_type": "code",
   "execution_count": 5,
   "metadata": {},
   "outputs": [],
   "source": [
    "proposal_id = 'o000001'"
   ]
  },
  {
   "cell_type": "code",
   "execution_count": 6,
   "metadata": {},
   "outputs": [],
   "source": [
    "df = pd.DataFrame({'proposal_id': [proposal_id], 'created_at': [datetime.datetime.now()], 'updated_at': [datetime.datetime.now()]})"
   ]
  },
  {
   "cell_type": "code",
   "execution_count": 7,
   "metadata": {},
   "outputs": [],
   "source": [
    "tab = 'proposal'\n",
    "try:\n",
    "    utils.insert(url, tab, df)\n",
    "except:\n",
    "    utils.update(url, tab, df)"
   ]
  },
  {
   "cell_type": "markdown",
   "metadata": {},
   "source": [
    "### insert into `program`"
   ]
  },
  {
   "cell_type": "code",
   "execution_count": 8,
   "metadata": {},
   "outputs": [],
   "source": [
    "program_id = 1"
   ]
  },
  {
   "cell_type": "code",
   "execution_count": 9,
   "metadata": {},
   "outputs": [],
   "source": [
    "df = pd.DataFrame({'program_id':[program_id], 'program_name':['test'], 'program_description':['test'], 'proposal_id':[proposal_id], 'is_filler':[False], 'created_at':[datetime.datetime.now()], 'updated_at':[datetime.datetime.now()]})"
   ]
  },
  {
   "cell_type": "code",
   "execution_count": 10,
   "metadata": {},
   "outputs": [],
   "source": [
    "tab = 'program'\n",
    "try:\n",
    "    utils.insert(url, tab, df)\n",
    "except:\n",
    "    utils.update(url, tab, df)"
   ]
  },
  {
   "cell_type": "markdown",
   "metadata": {},
   "source": [
    "### isnert into `tile`"
   ]
  },
  {
   "cell_type": "code",
   "execution_count": 11,
   "metadata": {},
   "outputs": [],
   "source": [
    "tile_id = 1"
   ]
  },
  {
   "cell_type": "code",
   "execution_count": 12,
   "metadata": {},
   "outputs": [],
   "source": [
    "df = pd.DataFrame({'tile_id':[tile_id], 'program_id':[program_id], 'tile':[1], 'ra_center':[0.0], 'dec_center':[0.0], 'pa': [0.0], 'is_finished':[False]})"
   ]
  },
  {
   "cell_type": "code",
   "execution_count": 13,
   "metadata": {},
   "outputs": [],
   "source": [
    "tab = 'tile'\n",
    "try:\n",
    "    utils.insert(url, tab, df)\n",
    "except:\n",
    "    utils.update(url, tab, df)"
   ]
  },
  {
   "cell_type": "markdown",
   "metadata": {},
   "source": [
    "### insert into `sps_module` & `sps_camera`"
   ]
  },
  {
   "cell_type": "code",
   "execution_count": 14,
   "metadata": {},
   "outputs": [],
   "source": [
    "sps_module_ids = [1, 2, 3, 4]\n",
    "descriptions = ['SM1', 'SM2', 'SM3', 'SM4']\n",
    "df = pd.DataFrame({'sps_module_id': sps_module_ids, 'description': descriptions})"
   ]
  },
  {
   "cell_type": "code",
   "execution_count": 15,
   "metadata": {},
   "outputs": [],
   "source": [
    "tab = 'sps_module'\n",
    "try:\n",
    "    utils.insert(url, tab, df)\n",
    "except:\n",
    "    utils.update(url, tab, df)"
   ]
  },
  {
   "cell_type": "code",
   "execution_count": 16,
   "metadata": {},
   "outputs": [],
   "source": [
    "mods = [1, 2, 3, 4]\n",
    "arms = ['b', 'r', 'n', 'm']\n",
    "arm_nums = [1, 2, 3, 4]\n",
    "\n",
    "sps_camera_id = []\n",
    "sps_module_id = []\n",
    "sps_arm = []\n",
    "sps_arm_num = []\n",
    "sps_id = 1\n",
    "for mod in mods:\n",
    "    for arm, arm_num in zip(arms, arm_nums):\n",
    "        sps_camera_id.append(sps_id)\n",
    "        sps_module_id.append(mod)\n",
    "        sps_arm.append(arm)\n",
    "        sps_arm_num.append(arm_num)\n",
    "        sps_id += 1\n",
    "df = pd.DataFrame({'sps_camera_id': sps_camera_id, 'sps_module_id': sps_module_id, 'arm': sps_arm, 'arm_num': sps_arm_num})"
   ]
  },
  {
   "cell_type": "code",
   "execution_count": 17,
   "metadata": {},
   "outputs": [],
   "source": [
    "tab = 'sps_camera'\n",
    "try:\n",
    "    utils.insert(url, tab, df)\n",
    "except:\n",
    "    utils.update(url, tab, df)"
   ]
  },
  {
   "cell_type": "markdown",
   "metadata": {},
   "source": [
    "### insert into `fiducial_fiber` & `fiducial_fiber_geometry`"
   ]
  },
  {
   "cell_type": "code",
   "execution_count": 18,
   "metadata": {},
   "outputs": [],
   "source": [
    "dir_name = '/work/PFS/repo/pfs_utils/data/fiberids/'\n",
    "filename = dir_name + 'fiducials.20171111.txt'"
   ]
  },
  {
   "cell_type": "code",
   "execution_count": 19,
   "metadata": {},
   "outputs": [],
   "source": [
    "ff_id = []\n",
    "ff_field_on_pfi = []\n",
    "ff_in_field = []\n",
    "ff_type = []\n",
    "ff_id_in_type = []\n",
    "ff_version = []\n",
    "ff_center_on_pfi_x_mm = []\n",
    "ff_center_on_pfi_y_mm = []\n",
    "with open(filename, 'r') as f:\n",
    "    for line in f:\n",
    "        if 'fid ' not in line:\n",
    "            a = line.split()\n",
    "            ff_id.append(int(a[0]))\n",
    "            ff_field_on_pfi.append(int(a[1]))\n",
    "            ff_in_field.append(int(a[2]))\n",
    "            ff_type.append(a[3])\n",
    "            ff_id_in_type.append(int(a[4]))\n",
    "            ff_version.append('20171111')\n",
    "            ff_center_on_pfi_x_mm.append(float(a[5]))\n",
    "            ff_center_on_pfi_y_mm.append(float(a[6]))"
   ]
  },
  {
   "cell_type": "code",
   "execution_count": 20,
   "metadata": {},
   "outputs": [],
   "source": [
    "df = pd.DataFrame({'fiducial_fiber_id': ff_id, \n",
    "                   'field_on_pfi': ff_field_on_pfi, \n",
    "                   'ff_in_field': ff_in_field,\n",
    "                   'ff_type': ff_type,\n",
    "                   'ff_id_in_type': ff_id_in_type,\n",
    "                   'version': ff_version\n",
    "                  })"
   ]
  },
  {
   "cell_type": "code",
   "execution_count": 21,
   "metadata": {},
   "outputs": [],
   "source": [
    "tab = 'fiducial_fiber'\n",
    "try:\n",
    "    utils.insert(url, tab, df)\n",
    "except:\n",
    "    utils.update(url, tab, df)"
   ]
  },
  {
   "cell_type": "code",
   "execution_count": 22,
   "metadata": {},
   "outputs": [],
   "source": [
    "df = pd.DataFrame({'fiducial_fiber_id': ff_id, \n",
    "                   'ff_center_on_pfi_x_mm': ff_center_on_pfi_x_mm,\n",
    "                   'ff_center_on_pfi_y_mm': ff_center_on_pfi_y_mm\n",
    "                  })"
   ]
  },
  {
   "cell_type": "code",
   "execution_count": 23,
   "metadata": {},
   "outputs": [],
   "source": [
    "tab = 'fiducial_fiber_geometry'\n",
    "try:\n",
    "    utils.insert(url, tab, df)\n",
    "except:\n",
    "    utils.update(url, tab, df)"
   ]
  },
  {
   "cell_type": "markdown",
   "metadata": {},
   "source": [
    "### insert into `cobra`"
   ]
  },
  {
   "cell_type": "code",
   "execution_count": 24,
   "metadata": {},
   "outputs": [],
   "source": [
    "dir_name = '/work/PFS/repo/pfs_utils/data/fiberids/'\n",
    "filename = dir_name + 'grandfibermap.20171114.txt'"
   ]
  },
  {
   "cell_type": "code",
   "execution_count": 25,
   "metadata": {},
   "outputs": [],
   "source": [
    "cobra_id = []\n",
    "cobra_field_on_pfi = []\n",
    "cobra_in_field = []\n",
    "cobra_module_in_field = []\n",
    "cobra_in_module = []\n",
    "cobra_module_name = []\n",
    "cobra_sps_camera_id = []\n",
    "cobra_slit_hole_sps = []\n",
    "cobra_id_sps = []\n",
    "cobra_id_lna = []\n",
    "cobra_version = []\n",
    "cobra_center_on_pfi_x_mm = []\n",
    "cobra_center_on_pfi_y_mm = []\n",
    "cobra_distance_from_center_mm = []\n",
    "with open(filename, 'r') as f:\n",
    "    for line in f:\n",
    "        if 'cob ' not in line:\n",
    "            a = line.split()\n",
    "            cobra_id.append(int(a[0]))\n",
    "            cobra_field_on_pfi.append(int(a[1]))\n",
    "            cobra_in_field.append(int(a[2]))\n",
    "            cobra_module_in_field.append(int(a[3]))\n",
    "            cobra_in_module.append(int(a[4]))\n",
    "            cobra_module_name.append(a[5])\n",
    "            cobra_sps_camera_id.append(int(a[9]))\n",
    "            cobra_slit_hole_sps.append(int(a[10]))\n",
    "            cobra_id_sps.append(int(a[11]))\n",
    "            cobra_id_lna.append(a[12])\n",
    "            cobra_version.append('20171114')\n",
    "            cobra_center_on_pfi_x_mm.append(float(a[6]))\n",
    "            cobra_center_on_pfi_y_mm.append(float(a[7]))\n",
    "            cobra_distance_from_center_mm.append(float(a[8]))"
   ]
  },
  {
   "cell_type": "code",
   "execution_count": 26,
   "metadata": {},
   "outputs": [],
   "source": [
    "df = pd.DataFrame({'cobra_id': cobra_id, \n",
    "                   'field_on_pfi': cobra_field_on_pfi,\n",
    "                   'cobra_in_field': cobra_in_field,\n",
    "                   'module_in_field': cobra_module_in_field,\n",
    "                   'cobra_in_module': cobra_in_module,\n",
    "                   'module_name': cobra_module_name,\n",
    "                   'sps_camera_id': cobra_sps_camera_id,\n",
    "                   'slit_hole_sps': cobra_slit_hole_sps,\n",
    "                   'cobra_id_sps': cobra_id_sps,\n",
    "                   'cobra_id_lna': cobra_id_lna,\n",
    "                   'version': cobra_version\n",
    "                  })"
   ]
  },
  {
   "cell_type": "code",
   "execution_count": 27,
   "metadata": {},
   "outputs": [],
   "source": [
    "tab = 'cobra'\n",
    "try:\n",
    "    utils.insert(url, tab, df)\n",
    "except:\n",
    "    utils.update(url, tab, df)"
   ]
  },
  {
   "cell_type": "markdown",
   "metadata": {},
   "source": [
    "### insert into `cobra_motor_calib` & `cobra_geometry`"
   ]
  },
  {
   "cell_type": "code",
   "execution_count": 28,
   "metadata": {},
   "outputs": [],
   "source": [
    "cobra_motor_calib_id = 1\n",
    "df = pd.DataFrame({'cobra_motor_calib_id': [cobra_motor_calib_id],\n",
    "                   'calibrated_at': [datetime.datetime.now()],\n",
    "                   'comments': 'test',\n",
    "                  })"
   ]
  },
  {
   "cell_type": "code",
   "execution_count": 29,
   "metadata": {},
   "outputs": [],
   "source": [
    "tab = 'cobra_motor_calib'\n",
    "try:\n",
    "    utils.insert(url, tab, df)\n",
    "except:\n",
    "    utils.update(url, tab, df)"
   ]
  },
  {
   "cell_type": "code",
   "execution_count": 30,
   "metadata": {},
   "outputs": [],
   "source": [
    "df = pd.DataFrame({'cobra_motor_calib_id': [cobra_motor_calib_id for v in cobra_id],\n",
    "                   'cobra_id': cobra_id, \n",
    "                   'cobra_center_on_pfi_x_mm': cobra_center_on_pfi_x_mm,\n",
    "                   'cobra_center_on_pfi_y_mm': cobra_center_on_pfi_y_mm,\n",
    "                   'cobra_distance_from_center_mm': cobra_distance_from_center_mm,\n",
    "                  })"
   ]
  },
  {
   "cell_type": "code",
   "execution_count": 31,
   "metadata": {},
   "outputs": [],
   "source": [
    "tab = 'cobra_geometry'\n",
    "try:\n",
    "    utils.insert(url, tab, df)\n",
    "except:\n",
    "    utils.update(url, tab, df)"
   ]
  },
  {
   "cell_type": "markdown",
   "metadata": {},
   "source": [
    "## make pfsDesign"
   ]
  },
  {
   "cell_type": "code",
   "execution_count": 32,
   "metadata": {},
   "outputs": [],
   "source": [
    "sys.path.append('/work/PFS/repo/datamodel/python')\n",
    "from pfs.datamodel.pfsConfig import PfsDesign\n",
    "from pfs.datamodel import utils as dm_utils"
   ]
  },
  {
   "cell_type": "code",
   "execution_count": 33,
   "metadata": {},
   "outputs": [],
   "source": [
    "np.random.seed(1)\n",
    "r = np.sqrt(np.random.uniform(0, 0.675**2, len(cobra_id)))\n",
    "theta = np.random.uniform(0, 2*np.pi, len(cobra_id))\n",
    "ras = r * np.cos(theta) + 150.0\n",
    "decs = r * np.sin(theta) + 2.0\n",
    "#plt.scatter(ras, decs, marker='.', s=10)"
   ]
  },
  {
   "cell_type": "code",
   "execution_count": 34,
   "metadata": {},
   "outputs": [],
   "source": [
    "pfsDesignId = dm_utils.calculate_pfsDesignId(cobra_id, ras, decs)\n",
    "raBoresight = np.median(ras)\n",
    "decBoresight = np.median(decs)\n",
    "tracts = np.array([0 for i in range(len(cobra_id))], dtype='i4')\n",
    "patches = np.array(['0,0' for i in range(len(cobra_id))], dtype='U')\n",
    "catIds = np.array([0 for i in range(len(cobra_id))], dtype='i4')\n",
    "objIds = np.arange(len(cobra_id))+1\n",
    "targetTypes = np.array([1 for i in range(len(cobra_id))], dtype='i4')\n",
    "fiberStatus = np.array([1 for i in range(len(cobra_id))], dtype='i4')\n",
    "pfiNominals = np.array([cobra_center_on_pfi_x_mm, cobra_center_on_pfi_y_mm]).transpose()\n",
    "fiberFluxes = np.array([[0.0, 0.0, 0.0, 0.0, 0.0] for i in range(len(cobra_id))], dtype='f4')\n",
    "psfFluxes = np.array([[0.0, 0.0, 0.0, 0.0, 0.0] for i in range(len(cobra_id))], dtype='f4')\n",
    "totalFluxes = np.array([[0.0, 0.0, 0.0, 0.0, 0.0] for i in range(len(cobra_id))], dtype='f4')\n",
    "fiberFluxErrs = np.array([[0.0, 0.0, 0.0, 0.0, 0.0] for i in range(len(cobra_id))], dtype='f4')\n",
    "psfFluxErrs = np.array([[0.0, 0.0, 0.0, 0.0, 0.0] for i in range(len(cobra_id))], dtype='f4')\n",
    "totalFluxErrs = np.array([[0.0, 0.0, 0.0, 0.0, 0.0] for i in range(len(cobra_id))], dtype='f4')\n",
    "filterNames = np.array([['g', 'r', 'i', 'z', 'y'] for i in range(len(cobra_id))], dtype='U')"
   ]
  },
  {
   "cell_type": "code",
   "execution_count": 35,
   "metadata": {},
   "outputs": [],
   "source": [
    "pfsDesign = PfsDesign(pfsDesignId=pfsDesignId, raBoresight=raBoresight, decBoresight=decBoresight,\n",
    "                      fiberId=cobra_id, tract=tracts, patch=patches, ra=ras, dec=decs,\n",
    "                      catId=catIds, objId=objIds, targetType=targetTypes, fiberStatus=fiberStatus,\n",
    "                      fiberFlux=fiberFluxes, psfFlux=psfFluxes, totalFlux=totalFluxes,\n",
    "                      fiberFluxErr=fiberFluxErrs, psfFluxErr=psfFluxErrs, totalFluxErr=totalFluxErrs,\n",
    "                      filterNames=filterNames, pfiNominal=pfiNominals)"
   ]
  },
  {
   "cell_type": "markdown",
   "metadata": {},
   "source": [
    "## insert into `pfs_design` & `pfs_design_fiber`"
   ]
  },
  {
   "cell_type": "code",
   "execution_count": 36,
   "metadata": {},
   "outputs": [
    {
     "data": {
      "text/plain": [
       "0"
      ]
     },
     "execution_count": 36,
     "metadata": {},
     "output_type": "execute_result"
    }
   ],
   "source": [
    "utils.insert_pfs_design(url, pfsDesign, tile_id)"
   ]
  },
  {
   "cell_type": "code",
   "execution_count": null,
   "metadata": {},
   "outputs": [],
   "source": []
  },
  {
   "cell_type": "code",
   "execution_count": null,
   "metadata": {},
   "outputs": [],
   "source": []
  },
  {
   "cell_type": "code",
   "execution_count": null,
   "metadata": {},
   "outputs": [],
   "source": []
  },
  {
   "cell_type": "code",
   "execution_count": null,
   "metadata": {},
   "outputs": [],
   "source": []
  }
 ],
 "metadata": {
  "kernelspec": {
   "display_name": "Python 3",
   "language": "python",
   "name": "python3"
  },
  "language_info": {
   "codemirror_mode": {
    "name": "ipython",
    "version": 3
   },
   "file_extension": ".py",
   "mimetype": "text/x-python",
   "name": "python",
   "nbconvert_exporter": "python",
   "pygments_lexer": "ipython3",
   "version": "3.7.6"
  }
 },
 "nbformat": 4,
 "nbformat_minor": 4
}
