{
 "cells": [
  {
   "cell_type": "markdown",
   "metadata": {},
   "source": [
    "# opDB API implementation test using SQLAlchemy + Pandas"
   ]
  },
  {
   "cell_type": "code",
   "execution_count": 1,
   "metadata": {},
   "outputs": [],
   "source": [
    "%matplotlib inline\n",
    "%load_ext autoreload\n",
    "%autoreload 2\n",
    "\n",
    "import sys\n",
    "import numpy as np\n",
    "import datetime\n",
    "import pandas as pd"
   ]
  },
  {
   "cell_type": "code",
   "execution_count": 2,
   "metadata": {},
   "outputs": [],
   "source": [
    "from opdb import models,utils,opdb"
   ]
  },
  {
   "cell_type": "code",
   "execution_count": 3,
   "metadata": {},
   "outputs": [],
   "source": [
    "hostname=''\n",
    "port=''\n",
    "dbname='opdb_api_test'\n",
    "username='pfs'\n",
    "passwd=None"
   ]
  },
  {
   "cell_type": "code",
   "execution_count": 4,
   "metadata": {},
   "outputs": [],
   "source": [
    "url='postgresql://%s:%s@%s:%s/%s' % (username, passwd, hostname, port, dbname)"
   ]
  },
  {
   "cell_type": "markdown",
   "metadata": {},
   "source": [
    "**You need to do the following SQL commands before you run the usage**\n",
    "\n",
    "DELETE FROM sps_annotation WHERE pfs_visit_id=120982;\n",
    "\n",
    "DELETE FROM visit_set WHERE visit_set_id=10634;\n",
    "\n",
    "DELETE FROM sps_sequence WHERE visit_set_id=10634;\n",
    "\n",
    "DELETE FROM sps_exposure WHERE pfs_visit_id BETWEEN 120981 AND 120983;\n",
    "\n",
    "DELETE FROM sps_visit WHERE pfs_visit_id BETWEEN 120981 AND 120983;\n",
    "\n",
    "DELETE FROM pfs_visit WHERE pfs_visit_id BETWEEN 120981 AND 120983;\n"
   ]
  },
  {
   "cell_type": "markdown",
   "metadata": {},
   "source": [
    "## usage for SpS"
   ]
  },
  {
   "cell_type": "markdown",
   "metadata": {},
   "source": [
    "### insert into `pfs_visit` & `sps_visit`"
   ]
  },
  {
   "cell_type": "markdown",
   "metadata": {},
   "source": [
    "#### use opDB instance directly"
   ]
  },
  {
   "cell_type": "code",
   "execution_count": 5,
   "metadata": {},
   "outputs": [],
   "source": [
    "db = opdb.OpDB(hostname, port, dbname, username, passwd)\n",
    "db.connect()"
   ]
  },
  {
   "cell_type": "code",
   "execution_count": 6,
   "metadata": {},
   "outputs": [],
   "source": [
    "df = pd.DataFrame({'pfs_visit_id': [120981, 120982, 120983], 'pfs_visit_description': ['test', 'test', 'test']})\n",
    "db.insert('pfs_visit', df)"
   ]
  },
  {
   "cell_type": "code",
   "execution_count": 7,
   "metadata": {},
   "outputs": [],
   "source": [
    "df = pd.DataFrame({'pfs_visit_id': [120981, 120982, 120983], 'exp_type': ['test', 'test', 'test']})\n",
    "db.insert('sps_visit', df)"
   ]
  },
  {
   "cell_type": "code",
   "execution_count": 8,
   "metadata": {},
   "outputs": [],
   "source": [
    "db.close()"
   ]
  },
  {
   "cell_type": "markdown",
   "metadata": {},
   "source": [
    "#### or use utils (one-liner usage)"
   ]
  },
  {
   "cell_type": "code",
   "execution_count": 9,
   "metadata": {},
   "outputs": [
    {
     "name": "stdout",
     "output_type": "stream",
     "text": [
      "transaction error\n"
     ]
    },
    {
     "data": {
      "text/plain": [
       "0"
      ]
     },
     "execution_count": 9,
     "metadata": {},
     "output_type": "execute_result"
    }
   ],
   "source": [
    "utils.insert(url, 'pfs_visit', pd.DataFrame({'pfs_visit_id': [120981, 120982, 120983], 'pfs_visit_description': ['test', 'test', 'test']}))"
   ]
  },
  {
   "cell_type": "code",
   "execution_count": 10,
   "metadata": {},
   "outputs": [
    {
     "name": "stdout",
     "output_type": "stream",
     "text": [
      "transaction error\n"
     ]
    },
    {
     "data": {
      "text/plain": [
       "0"
      ]
     },
     "execution_count": 10,
     "metadata": {},
     "output_type": "execute_result"
    }
   ],
   "source": [
    "utils.insert(url, 'sps_visit', pd.DataFrame({'pfs_visit_id': [120981, 120982, 120983], 'exp_type': ['test', 'test', 'test']}))"
   ]
  },
  {
   "cell_type": "markdown",
   "metadata": {},
   "source": [
    "### insert into `sps_exposure`"
   ]
  },
  {
   "cell_type": "markdown",
   "metadata": {},
   "source": [
    "#### use opDB instance directly"
   ]
  },
  {
   "cell_type": "code",
   "execution_count": 11,
   "metadata": {},
   "outputs": [],
   "source": [
    "db = opdb.OpDB(hostname, port, dbname, username, passwd)\n",
    "db.connect()"
   ]
  },
  {
   "cell_type": "code",
   "execution_count": 12,
   "metadata": {},
   "outputs": [],
   "source": [
    "now = datetime.datetime.now()\n",
    "df = pd.DataFrame({'pfs_visit_id': [120981, 120982, 120983, 120981, 120982, 120983], \n",
    "                   'sps_camera_id': [1, 1, 1, 2, 2, 2], \n",
    "                   'exptime': [0., 0., 0., 0., 0., 0.],\n",
    "                   'time_exp_start': [now, now, now, now, now, now],\n",
    "                   'time_exp_end': [now, now, now, now, now, now]\n",
    "                  })\n",
    "db.insert('sps_exposure', df)"
   ]
  },
  {
   "cell_type": "code",
   "execution_count": 13,
   "metadata": {},
   "outputs": [],
   "source": [
    "db.close()"
   ]
  },
  {
   "cell_type": "markdown",
   "metadata": {},
   "source": [
    "#### or use utils (one-liner usage)"
   ]
  },
  {
   "cell_type": "code",
   "execution_count": 14,
   "metadata": {},
   "outputs": [],
   "source": [
    "now = datetime.datetime.now()\n",
    "df = pd.DataFrame({'pfs_visit_id': [20981, 20982, 20983, 20981, 20982, 20983], \n",
    "                   'sps_camera_id': [1, 1, 1, 2, 2, 2], \n",
    "                   'exptime': [0., 0., 0., 0., 0., 0.],\n",
    "                   'time_exp_start': [now, now, now, now, now, now],\n",
    "                   'time_exp_end': [now, now, now, now, now, now]\n",
    "                  })"
   ]
  },
  {
   "cell_type": "code",
   "execution_count": 15,
   "metadata": {},
   "outputs": [
    {
     "name": "stdout",
     "output_type": "stream",
     "text": [
      "transaction error\n"
     ]
    },
    {
     "data": {
      "text/plain": [
       "0"
      ]
     },
     "execution_count": 15,
     "metadata": {},
     "output_type": "execute_result"
    }
   ],
   "source": [
    "utils.insert(url, 'sps_exposure', df)"
   ]
  },
  {
   "cell_type": "markdown",
   "metadata": {},
   "source": [
    "### insert into `sps_sequence` & `visit_set`"
   ]
  },
  {
   "cell_type": "markdown",
   "metadata": {},
   "source": [
    "#### use opDB instance directly"
   ]
  },
  {
   "cell_type": "code",
   "execution_count": 16,
   "metadata": {},
   "outputs": [],
   "source": [
    "db = opdb.OpDB(hostname, port, dbname, username, passwd)\n",
    "db.connect()"
   ]
  },
  {
   "cell_type": "code",
   "execution_count": 17,
   "metadata": {},
   "outputs": [],
   "source": [
    "df = pd.DataFrame({'visit_set_id': [10634], \n",
    "                   'sequence_type': ['test'], \n",
    "                   'name': ['test'],\n",
    "                   'comments': ['None'],\n",
    "                   'cmd_str': ['None'],\n",
    "                   'status' : ['complete']\n",
    "                  })\n",
    "db.insert('sps_sequence', df)"
   ]
  },
  {
   "cell_type": "code",
   "execution_count": 18,
   "metadata": {},
   "outputs": [],
   "source": [
    "df = pd.DataFrame({'pfs_visit_id': [120981, 120982, 120983], 'visit_set_id': [10634, 10634, 10634]})\n",
    "db.insert('visit_set', df)"
   ]
  },
  {
   "cell_type": "code",
   "execution_count": 19,
   "metadata": {},
   "outputs": [],
   "source": [
    "db.close()"
   ]
  },
  {
   "cell_type": "markdown",
   "metadata": {},
   "source": [
    "#### or use utils (one-liner usage)"
   ]
  },
  {
   "cell_type": "code",
   "execution_count": 20,
   "metadata": {},
   "outputs": [],
   "source": [
    "df = pd.DataFrame({'visit_set_id': [10634], \n",
    "                   'sequence_type': ['test'], \n",
    "                   'name': ['test'],\n",
    "                   'comments': ['None'],\n",
    "                   'cmd_str': ['None'],\n",
    "                   'status' : ['complete']\n",
    "                  })"
   ]
  },
  {
   "cell_type": "code",
   "execution_count": 21,
   "metadata": {},
   "outputs": [
    {
     "name": "stdout",
     "output_type": "stream",
     "text": [
      "transaction error\n"
     ]
    },
    {
     "data": {
      "text/plain": [
       "0"
      ]
     },
     "execution_count": 21,
     "metadata": {},
     "output_type": "execute_result"
    }
   ],
   "source": [
    "utils.insert(url, 'sps_sequence', df)"
   ]
  },
  {
   "cell_type": "code",
   "execution_count": 22,
   "metadata": {},
   "outputs": [],
   "source": [
    "df = pd.DataFrame({'pfs_visit_id': [120981, 120982, 120983], 'visit_set_id': [10634, 10634, 10634]})"
   ]
  },
  {
   "cell_type": "code",
   "execution_count": 23,
   "metadata": {},
   "outputs": [
    {
     "name": "stdout",
     "output_type": "stream",
     "text": [
      "transaction error\n"
     ]
    },
    {
     "data": {
      "text/plain": [
       "0"
      ]
     },
     "execution_count": 23,
     "metadata": {},
     "output_type": "execute_result"
    }
   ],
   "source": [
    "utils.insert(url, 'visit_set', df)"
   ]
  },
  {
   "cell_type": "markdown",
   "metadata": {},
   "source": [
    "### fetch `visit_set.visit_set_id`"
   ]
  },
  {
   "cell_type": "markdown",
   "metadata": {},
   "source": [
    "#### use opDB instance directly"
   ]
  },
  {
   "cell_type": "code",
   "execution_count": 24,
   "metadata": {},
   "outputs": [],
   "source": [
    "db = opdb.OpDB(hostname, port, dbname, username, passwd)\n",
    "db.connect()"
   ]
  },
  {
   "cell_type": "code",
   "execution_count": 25,
   "metadata": {},
   "outputs": [],
   "source": [
    "df = db.fetch_all('sps_sequence')"
   ]
  },
  {
   "cell_type": "code",
   "execution_count": 26,
   "metadata": {},
   "outputs": [
    {
     "data": {
      "text/html": [
       "<div>\n",
       "<style scoped>\n",
       "    .dataframe tbody tr th:only-of-type {\n",
       "        vertical-align: middle;\n",
       "    }\n",
       "\n",
       "    .dataframe tbody tr th {\n",
       "        vertical-align: top;\n",
       "    }\n",
       "\n",
       "    .dataframe thead th {\n",
       "        text-align: right;\n",
       "    }\n",
       "</style>\n",
       "<table border=\"1\" class=\"dataframe\">\n",
       "  <thead>\n",
       "    <tr style=\"text-align: right;\">\n",
       "      <th></th>\n",
       "      <th>visit_set_id</th>\n",
       "      <th>sequence_type</th>\n",
       "      <th>name</th>\n",
       "      <th>comments</th>\n",
       "      <th>cmd_str</th>\n",
       "      <th>status</th>\n",
       "    </tr>\n",
       "  </thead>\n",
       "  <tbody>\n",
       "    <tr>\n",
       "      <th>331</th>\n",
       "      <td>631</td>\n",
       "      <td>biases</td>\n",
       "      <td>cplTest</td>\n",
       "      <td>FITS</td>\n",
       "      <td>bias duplicate=1 name=\"cplTest\" comments=\"FITS\"</td>\n",
       "      <td>complete</td>\n",
       "    </tr>\n",
       "    <tr>\n",
       "      <th>332</th>\n",
       "      <td>632</td>\n",
       "      <td>biases</td>\n",
       "      <td>cplTest</td>\n",
       "      <td>FITS</td>\n",
       "      <td>bias duplicate=2 name=\"cplTest\" comments=\"FITS\"</td>\n",
       "      <td>complete</td>\n",
       "    </tr>\n",
       "    <tr>\n",
       "      <th>333</th>\n",
       "      <td>633</td>\n",
       "      <td>biases</td>\n",
       "      <td>cplTest</td>\n",
       "      <td>stability new Gen2</td>\n",
       "      <td>bias duplicate=100 name=\"cplTest\" comments=\"st...</td>\n",
       "      <td>complete</td>\n",
       "    </tr>\n",
       "    <tr>\n",
       "      <th>334</th>\n",
       "      <td>634</td>\n",
       "      <td>biases</td>\n",
       "      <td>cplTest</td>\n",
       "      <td>stalility new Gen2</td>\n",
       "      <td>bias duplicate=200 name=\"cplTest\" comments=\"st...</td>\n",
       "      <td>complete</td>\n",
       "    </tr>\n",
       "    <tr>\n",
       "      <th>335</th>\n",
       "      <td>10634</td>\n",
       "      <td>test</td>\n",
       "      <td>test</td>\n",
       "      <td>None</td>\n",
       "      <td>None</td>\n",
       "      <td>complete</td>\n",
       "    </tr>\n",
       "  </tbody>\n",
       "</table>\n",
       "</div>"
      ],
      "text/plain": [
       "     visit_set_id sequence_type     name            comments  \\\n",
       "331           631        biases  cplTest                FITS   \n",
       "332           632        biases  cplTest                FITS   \n",
       "333           633        biases  cplTest  stability new Gen2   \n",
       "334           634        biases  cplTest  stalility new Gen2   \n",
       "335         10634          test     test                None   \n",
       "\n",
       "                                               cmd_str    status  \n",
       "331    bias duplicate=1 name=\"cplTest\" comments=\"FITS\"  complete  \n",
       "332    bias duplicate=2 name=\"cplTest\" comments=\"FITS\"  complete  \n",
       "333  bias duplicate=100 name=\"cplTest\" comments=\"st...  complete  \n",
       "334  bias duplicate=200 name=\"cplTest\" comments=\"st...  complete  \n",
       "335                                               None  complete  "
      ]
     },
     "execution_count": 26,
     "metadata": {},
     "output_type": "execute_result"
    }
   ],
   "source": [
    "df[-5:]"
   ]
  },
  {
   "cell_type": "code",
   "execution_count": 27,
   "metadata": {},
   "outputs": [],
   "source": [
    "db.close()"
   ]
  },
  {
   "cell_type": "markdown",
   "metadata": {},
   "source": [
    "#### or use utils (one-liner usage)"
   ]
  },
  {
   "cell_type": "code",
   "execution_count": 28,
   "metadata": {},
   "outputs": [],
   "source": [
    "df = utils.fetch_all(url, 'sps_sequence')"
   ]
  },
  {
   "cell_type": "code",
   "execution_count": 29,
   "metadata": {},
   "outputs": [
    {
     "data": {
      "text/html": [
       "<div>\n",
       "<style scoped>\n",
       "    .dataframe tbody tr th:only-of-type {\n",
       "        vertical-align: middle;\n",
       "    }\n",
       "\n",
       "    .dataframe tbody tr th {\n",
       "        vertical-align: top;\n",
       "    }\n",
       "\n",
       "    .dataframe thead th {\n",
       "        text-align: right;\n",
       "    }\n",
       "</style>\n",
       "<table border=\"1\" class=\"dataframe\">\n",
       "  <thead>\n",
       "    <tr style=\"text-align: right;\">\n",
       "      <th></th>\n",
       "      <th>visit_set_id</th>\n",
       "      <th>sequence_type</th>\n",
       "      <th>name</th>\n",
       "      <th>comments</th>\n",
       "      <th>cmd_str</th>\n",
       "      <th>status</th>\n",
       "    </tr>\n",
       "  </thead>\n",
       "  <tbody>\n",
       "    <tr>\n",
       "      <th>331</th>\n",
       "      <td>631</td>\n",
       "      <td>biases</td>\n",
       "      <td>cplTest</td>\n",
       "      <td>FITS</td>\n",
       "      <td>bias duplicate=1 name=\"cplTest\" comments=\"FITS\"</td>\n",
       "      <td>complete</td>\n",
       "    </tr>\n",
       "    <tr>\n",
       "      <th>332</th>\n",
       "      <td>632</td>\n",
       "      <td>biases</td>\n",
       "      <td>cplTest</td>\n",
       "      <td>FITS</td>\n",
       "      <td>bias duplicate=2 name=\"cplTest\" comments=\"FITS\"</td>\n",
       "      <td>complete</td>\n",
       "    </tr>\n",
       "    <tr>\n",
       "      <th>333</th>\n",
       "      <td>633</td>\n",
       "      <td>biases</td>\n",
       "      <td>cplTest</td>\n",
       "      <td>stability new Gen2</td>\n",
       "      <td>bias duplicate=100 name=\"cplTest\" comments=\"st...</td>\n",
       "      <td>complete</td>\n",
       "    </tr>\n",
       "    <tr>\n",
       "      <th>334</th>\n",
       "      <td>634</td>\n",
       "      <td>biases</td>\n",
       "      <td>cplTest</td>\n",
       "      <td>stalility new Gen2</td>\n",
       "      <td>bias duplicate=200 name=\"cplTest\" comments=\"st...</td>\n",
       "      <td>complete</td>\n",
       "    </tr>\n",
       "    <tr>\n",
       "      <th>335</th>\n",
       "      <td>10634</td>\n",
       "      <td>test</td>\n",
       "      <td>test</td>\n",
       "      <td>None</td>\n",
       "      <td>None</td>\n",
       "      <td>complete</td>\n",
       "    </tr>\n",
       "  </tbody>\n",
       "</table>\n",
       "</div>"
      ],
      "text/plain": [
       "     visit_set_id sequence_type     name            comments  \\\n",
       "331           631        biases  cplTest                FITS   \n",
       "332           632        biases  cplTest                FITS   \n",
       "333           633        biases  cplTest  stability new Gen2   \n",
       "334           634        biases  cplTest  stalility new Gen2   \n",
       "335         10634          test     test                None   \n",
       "\n",
       "                                               cmd_str    status  \n",
       "331    bias duplicate=1 name=\"cplTest\" comments=\"FITS\"  complete  \n",
       "332    bias duplicate=2 name=\"cplTest\" comments=\"FITS\"  complete  \n",
       "333  bias duplicate=100 name=\"cplTest\" comments=\"st...  complete  \n",
       "334  bias duplicate=200 name=\"cplTest\" comments=\"st...  complete  \n",
       "335                                               None  complete  "
      ]
     },
     "execution_count": 29,
     "metadata": {},
     "output_type": "execute_result"
    }
   ],
   "source": [
    "df[-5:]"
   ]
  },
  {
   "cell_type": "markdown",
   "metadata": {},
   "source": [
    "### fetch `visit_set.pfs_visit_id` for a given `visit_set_id`"
   ]
  },
  {
   "cell_type": "markdown",
   "metadata": {},
   "source": [
    "#### use opDB instance directly"
   ]
  },
  {
   "cell_type": "code",
   "execution_count": 30,
   "metadata": {},
   "outputs": [],
   "source": [
    "db = opdb.OpDB(hostname, port, dbname, username, passwd)\n",
    "db.connect()"
   ]
  },
  {
   "cell_type": "code",
   "execution_count": 31,
   "metadata": {},
   "outputs": [],
   "source": [
    "df = db.fetch_by_id('visit_set', visit_set_id=10634)"
   ]
  },
  {
   "cell_type": "code",
   "execution_count": 32,
   "metadata": {},
   "outputs": [
    {
     "data": {
      "text/html": [
       "<div>\n",
       "<style scoped>\n",
       "    .dataframe tbody tr th:only-of-type {\n",
       "        vertical-align: middle;\n",
       "    }\n",
       "\n",
       "    .dataframe tbody tr th {\n",
       "        vertical-align: top;\n",
       "    }\n",
       "\n",
       "    .dataframe thead th {\n",
       "        text-align: right;\n",
       "    }\n",
       "</style>\n",
       "<table border=\"1\" class=\"dataframe\">\n",
       "  <thead>\n",
       "    <tr style=\"text-align: right;\">\n",
       "      <th></th>\n",
       "      <th>pfs_visit_id</th>\n",
       "      <th>visit_set_id</th>\n",
       "    </tr>\n",
       "  </thead>\n",
       "  <tbody>\n",
       "    <tr>\n",
       "      <th>0</th>\n",
       "      <td>120981</td>\n",
       "      <td>10634</td>\n",
       "    </tr>\n",
       "    <tr>\n",
       "      <th>1</th>\n",
       "      <td>120982</td>\n",
       "      <td>10634</td>\n",
       "    </tr>\n",
       "    <tr>\n",
       "      <th>2</th>\n",
       "      <td>120983</td>\n",
       "      <td>10634</td>\n",
       "    </tr>\n",
       "  </tbody>\n",
       "</table>\n",
       "</div>"
      ],
      "text/plain": [
       "   pfs_visit_id  visit_set_id\n",
       "0        120981         10634\n",
       "1        120982         10634\n",
       "2        120983         10634"
      ]
     },
     "execution_count": 32,
     "metadata": {},
     "output_type": "execute_result"
    }
   ],
   "source": [
    "df"
   ]
  },
  {
   "cell_type": "code",
   "execution_count": 33,
   "metadata": {},
   "outputs": [],
   "source": [
    "db.close()"
   ]
  },
  {
   "cell_type": "markdown",
   "metadata": {},
   "source": [
    "#### or use utils (one-liner usage)"
   ]
  },
  {
   "cell_type": "code",
   "execution_count": 34,
   "metadata": {},
   "outputs": [],
   "source": [
    "df = utils.fetch_by_id(url, 'visit_set', visit_set_id=10634)"
   ]
  },
  {
   "cell_type": "code",
   "execution_count": 35,
   "metadata": {},
   "outputs": [
    {
     "data": {
      "text/html": [
       "<div>\n",
       "<style scoped>\n",
       "    .dataframe tbody tr th:only-of-type {\n",
       "        vertical-align: middle;\n",
       "    }\n",
       "\n",
       "    .dataframe tbody tr th {\n",
       "        vertical-align: top;\n",
       "    }\n",
       "\n",
       "    .dataframe thead th {\n",
       "        text-align: right;\n",
       "    }\n",
       "</style>\n",
       "<table border=\"1\" class=\"dataframe\">\n",
       "  <thead>\n",
       "    <tr style=\"text-align: right;\">\n",
       "      <th></th>\n",
       "      <th>pfs_visit_id</th>\n",
       "      <th>visit_set_id</th>\n",
       "    </tr>\n",
       "  </thead>\n",
       "  <tbody>\n",
       "    <tr>\n",
       "      <th>0</th>\n",
       "      <td>120981</td>\n",
       "      <td>10634</td>\n",
       "    </tr>\n",
       "    <tr>\n",
       "      <th>1</th>\n",
       "      <td>120982</td>\n",
       "      <td>10634</td>\n",
       "    </tr>\n",
       "    <tr>\n",
       "      <th>2</th>\n",
       "      <td>120983</td>\n",
       "      <td>10634</td>\n",
       "    </tr>\n",
       "  </tbody>\n",
       "</table>\n",
       "</div>"
      ],
      "text/plain": [
       "   pfs_visit_id  visit_set_id\n",
       "0        120981         10634\n",
       "1        120982         10634\n",
       "2        120983         10634"
      ]
     },
     "execution_count": 35,
     "metadata": {},
     "output_type": "execute_result"
    }
   ],
   "source": [
    "df"
   ]
  },
  {
   "cell_type": "markdown",
   "metadata": {},
   "source": [
    "### fetch exposure information (JOIN `sps_exposure`, `sps_visit`, & `sps_camera`)"
   ]
  },
  {
   "cell_type": "markdown",
   "metadata": {},
   "source": [
    "#### use opDB instance directly"
   ]
  },
  {
   "cell_type": "code",
   "execution_count": 36,
   "metadata": {},
   "outputs": [],
   "source": [
    "db = opdb.OpDB(hostname, port, dbname, username, passwd)\n",
    "db.connect()"
   ]
  },
  {
   "cell_type": "code",
   "execution_count": 37,
   "metadata": {},
   "outputs": [],
   "source": [
    "df = db.fetch_sps_exposures(pfs_visit_id=120981)"
   ]
  },
  {
   "cell_type": "code",
   "execution_count": 38,
   "metadata": {},
   "outputs": [
    {
     "data": {
      "text/html": [
       "<div>\n",
       "<style scoped>\n",
       "    .dataframe tbody tr th:only-of-type {\n",
       "        vertical-align: middle;\n",
       "    }\n",
       "\n",
       "    .dataframe tbody tr th {\n",
       "        vertical-align: top;\n",
       "    }\n",
       "\n",
       "    .dataframe thead th {\n",
       "        text-align: right;\n",
       "    }\n",
       "</style>\n",
       "<table border=\"1\" class=\"dataframe\">\n",
       "  <thead>\n",
       "    <tr style=\"text-align: right;\">\n",
       "      <th></th>\n",
       "      <th>pfs_visit_id</th>\n",
       "      <th>exp_type</th>\n",
       "      <th>sps_module_id</th>\n",
       "      <th>arm</th>\n",
       "      <th>sps_camera_id</th>\n",
       "    </tr>\n",
       "  </thead>\n",
       "  <tbody>\n",
       "    <tr>\n",
       "      <th>0</th>\n",
       "      <td>120981</td>\n",
       "      <td>test</td>\n",
       "      <td>1</td>\n",
       "      <td>b</td>\n",
       "      <td>1</td>\n",
       "    </tr>\n",
       "    <tr>\n",
       "      <th>1</th>\n",
       "      <td>120981</td>\n",
       "      <td>test</td>\n",
       "      <td>1</td>\n",
       "      <td>r</td>\n",
       "      <td>2</td>\n",
       "    </tr>\n",
       "  </tbody>\n",
       "</table>\n",
       "</div>"
      ],
      "text/plain": [
       "   pfs_visit_id exp_type  sps_module_id arm  sps_camera_id\n",
       "0        120981     test              1   b              1\n",
       "1        120981     test              1   r              2"
      ]
     },
     "execution_count": 38,
     "metadata": {},
     "output_type": "execute_result"
    }
   ],
   "source": [
    "df"
   ]
  },
  {
   "cell_type": "code",
   "execution_count": 39,
   "metadata": {},
   "outputs": [],
   "source": [
    "db.close()"
   ]
  },
  {
   "cell_type": "markdown",
   "metadata": {},
   "source": [
    "#### or use utils (one-liner usage)"
   ]
  },
  {
   "cell_type": "code",
   "execution_count": 40,
   "metadata": {},
   "outputs": [],
   "source": [
    "df = utils.fetch_sps_exposures(url, pfs_visit_id=120981)"
   ]
  },
  {
   "cell_type": "code",
   "execution_count": 41,
   "metadata": {},
   "outputs": [
    {
     "data": {
      "text/html": [
       "<div>\n",
       "<style scoped>\n",
       "    .dataframe tbody tr th:only-of-type {\n",
       "        vertical-align: middle;\n",
       "    }\n",
       "\n",
       "    .dataframe tbody tr th {\n",
       "        vertical-align: top;\n",
       "    }\n",
       "\n",
       "    .dataframe thead th {\n",
       "        text-align: right;\n",
       "    }\n",
       "</style>\n",
       "<table border=\"1\" class=\"dataframe\">\n",
       "  <thead>\n",
       "    <tr style=\"text-align: right;\">\n",
       "      <th></th>\n",
       "      <th>pfs_visit_id</th>\n",
       "      <th>exp_type</th>\n",
       "      <th>sps_module_id</th>\n",
       "      <th>arm</th>\n",
       "      <th>sps_camera_id</th>\n",
       "    </tr>\n",
       "  </thead>\n",
       "  <tbody>\n",
       "    <tr>\n",
       "      <th>0</th>\n",
       "      <td>120981</td>\n",
       "      <td>test</td>\n",
       "      <td>1</td>\n",
       "      <td>b</td>\n",
       "      <td>1</td>\n",
       "    </tr>\n",
       "    <tr>\n",
       "      <th>1</th>\n",
       "      <td>120981</td>\n",
       "      <td>test</td>\n",
       "      <td>1</td>\n",
       "      <td>r</td>\n",
       "      <td>2</td>\n",
       "    </tr>\n",
       "  </tbody>\n",
       "</table>\n",
       "</div>"
      ],
      "text/plain": [
       "   pfs_visit_id exp_type  sps_module_id arm  sps_camera_id\n",
       "0        120981     test              1   b              1\n",
       "1        120981     test              1   r              2"
      ]
     },
     "execution_count": 41,
     "metadata": {},
     "output_type": "execute_result"
    }
   ],
   "source": [
    "df"
   ]
  },
  {
   "cell_type": "markdown",
   "metadata": {},
   "source": [
    "### fetch `sps_annotation` info for a given `pfs_visit_id` and `sps_camera_id`"
   ]
  },
  {
   "cell_type": "markdown",
   "metadata": {},
   "source": [
    "#### use opDB instance directly"
   ]
  },
  {
   "cell_type": "code",
   "execution_count": 42,
   "metadata": {},
   "outputs": [],
   "source": [
    "db = opdb.OpDB(hostname, port, dbname, username, passwd)\n",
    "db.connect()"
   ]
  },
  {
   "cell_type": "code",
   "execution_count": 43,
   "metadata": {},
   "outputs": [],
   "source": [
    "df = db.fetch_by_id('sps_annotation', pfs_visit_id=19572, sps_camera_id=1)"
   ]
  },
  {
   "cell_type": "code",
   "execution_count": 44,
   "metadata": {},
   "outputs": [
    {
     "data": {
      "text/html": [
       "<div>\n",
       "<style scoped>\n",
       "    .dataframe tbody tr th:only-of-type {\n",
       "        vertical-align: middle;\n",
       "    }\n",
       "\n",
       "    .dataframe tbody tr th {\n",
       "        vertical-align: top;\n",
       "    }\n",
       "\n",
       "    .dataframe thead th {\n",
       "        text-align: right;\n",
       "    }\n",
       "</style>\n",
       "<table border=\"1\" class=\"dataframe\">\n",
       "  <thead>\n",
       "    <tr style=\"text-align: right;\">\n",
       "      <th></th>\n",
       "      <th>pfs_visit_id</th>\n",
       "      <th>sps_camera_id</th>\n",
       "      <th>data_flag</th>\n",
       "      <th>notes</th>\n",
       "    </tr>\n",
       "  </thead>\n",
       "  <tbody>\n",
       "    <tr>\n",
       "      <th>0</th>\n",
       "      <td>19572</td>\n",
       "      <td>1</td>\n",
       "      <td>0</td>\n",
       "      <td>sequence aborted because slit axis was note th...</td>\n",
       "    </tr>\n",
       "  </tbody>\n",
       "</table>\n",
       "</div>"
      ],
      "text/plain": [
       "   pfs_visit_id  sps_camera_id  data_flag  \\\n",
       "0         19572              1          0   \n",
       "\n",
       "                                               notes  \n",
       "0  sequence aborted because slit axis was note th...  "
      ]
     },
     "execution_count": 44,
     "metadata": {},
     "output_type": "execute_result"
    }
   ],
   "source": [
    "df"
   ]
  },
  {
   "cell_type": "code",
   "execution_count": 45,
   "metadata": {},
   "outputs": [],
   "source": [
    "db.close()"
   ]
  },
  {
   "cell_type": "markdown",
   "metadata": {},
   "source": [
    "#### or use utils (one-liner usage)"
   ]
  },
  {
   "cell_type": "code",
   "execution_count": 46,
   "metadata": {},
   "outputs": [],
   "source": [
    "df = utils.fetch_by_id(url, 'sps_annotation', pfs_visit_id=19572, sps_camera_id=1)"
   ]
  },
  {
   "cell_type": "code",
   "execution_count": 47,
   "metadata": {},
   "outputs": [
    {
     "data": {
      "text/html": [
       "<div>\n",
       "<style scoped>\n",
       "    .dataframe tbody tr th:only-of-type {\n",
       "        vertical-align: middle;\n",
       "    }\n",
       "\n",
       "    .dataframe tbody tr th {\n",
       "        vertical-align: top;\n",
       "    }\n",
       "\n",
       "    .dataframe thead th {\n",
       "        text-align: right;\n",
       "    }\n",
       "</style>\n",
       "<table border=\"1\" class=\"dataframe\">\n",
       "  <thead>\n",
       "    <tr style=\"text-align: right;\">\n",
       "      <th></th>\n",
       "      <th>pfs_visit_id</th>\n",
       "      <th>sps_camera_id</th>\n",
       "      <th>data_flag</th>\n",
       "      <th>notes</th>\n",
       "    </tr>\n",
       "  </thead>\n",
       "  <tbody>\n",
       "    <tr>\n",
       "      <th>0</th>\n",
       "      <td>19572</td>\n",
       "      <td>1</td>\n",
       "      <td>0</td>\n",
       "      <td>sequence aborted because slit axis was note th...</td>\n",
       "    </tr>\n",
       "  </tbody>\n",
       "</table>\n",
       "</div>"
      ],
      "text/plain": [
       "   pfs_visit_id  sps_camera_id  data_flag  \\\n",
       "0         19572              1          0   \n",
       "\n",
       "                                               notes  \n",
       "0  sequence aborted because slit axis was note th...  "
      ]
     },
     "execution_count": 47,
     "metadata": {},
     "output_type": "execute_result"
    }
   ],
   "source": [
    "df"
   ]
  },
  {
   "cell_type": "markdown",
   "metadata": {},
   "source": [
    "### insert and update `sps_annotation`"
   ]
  },
  {
   "cell_type": "markdown",
   "metadata": {},
   "source": [
    "#### use opDB instance directly"
   ]
  },
  {
   "cell_type": "code",
   "execution_count": 48,
   "metadata": {},
   "outputs": [],
   "source": [
    "db = opdb.OpDB(hostname, port, dbname, username, passwd)\n",
    "db.connect()"
   ]
  },
  {
   "cell_type": "code",
   "execution_count": 49,
   "metadata": {},
   "outputs": [],
   "source": [
    "df = pd.DataFrame({'pfs_visit_id': [120982], \n",
    "                   'sps_camera_id': [2], \n",
    "                   'data_flag': [0],\n",
    "                   'notes': ['data is strange']\n",
    "                  })\n",
    "db.insert('sps_annotation', df)"
   ]
  },
  {
   "cell_type": "code",
   "execution_count": 50,
   "metadata": {},
   "outputs": [],
   "source": [
    "df = db.fetch_all('sps_annotation')"
   ]
  },
  {
   "cell_type": "code",
   "execution_count": 51,
   "metadata": {},
   "outputs": [
    {
     "data": {
      "text/html": [
       "<div>\n",
       "<style scoped>\n",
       "    .dataframe tbody tr th:only-of-type {\n",
       "        vertical-align: middle;\n",
       "    }\n",
       "\n",
       "    .dataframe tbody tr th {\n",
       "        vertical-align: top;\n",
       "    }\n",
       "\n",
       "    .dataframe thead th {\n",
       "        text-align: right;\n",
       "    }\n",
       "</style>\n",
       "<table border=\"1\" class=\"dataframe\">\n",
       "  <thead>\n",
       "    <tr style=\"text-align: right;\">\n",
       "      <th></th>\n",
       "      <th>pfs_visit_id</th>\n",
       "      <th>sps_camera_id</th>\n",
       "      <th>data_flag</th>\n",
       "      <th>notes</th>\n",
       "    </tr>\n",
       "  </thead>\n",
       "  <tbody>\n",
       "    <tr>\n",
       "      <th>0</th>\n",
       "      <td>17687</td>\n",
       "      <td>1</td>\n",
       "      <td>0</td>\n",
       "      <td>just testing SW</td>\n",
       "    </tr>\n",
       "    <tr>\n",
       "      <th>1</th>\n",
       "      <td>17687</td>\n",
       "      <td>2</td>\n",
       "      <td>0</td>\n",
       "      <td>another SW test</td>\n",
       "    </tr>\n",
       "    <tr>\n",
       "      <th>2</th>\n",
       "      <td>17741</td>\n",
       "      <td>1</td>\n",
       "      <td>0</td>\n",
       "      <td>FPGA still wrong</td>\n",
       "    </tr>\n",
       "    <tr>\n",
       "      <th>3</th>\n",
       "      <td>17741</td>\n",
       "      <td>2</td>\n",
       "      <td>0</td>\n",
       "      <td>FPGA still wrong</td>\n",
       "    </tr>\n",
       "    <tr>\n",
       "      <th>4</th>\n",
       "      <td>19572</td>\n",
       "      <td>1</td>\n",
       "      <td>0</td>\n",
       "      <td>sequence aborted because slit axis was note th...</td>\n",
       "    </tr>\n",
       "    <tr>\n",
       "      <th>5</th>\n",
       "      <td>120982</td>\n",
       "      <td>2</td>\n",
       "      <td>0</td>\n",
       "      <td>data is strange</td>\n",
       "    </tr>\n",
       "  </tbody>\n",
       "</table>\n",
       "</div>"
      ],
      "text/plain": [
       "   pfs_visit_id  sps_camera_id  data_flag  \\\n",
       "0         17687              1          0   \n",
       "1         17687              2          0   \n",
       "2         17741              1          0   \n",
       "3         17741              2          0   \n",
       "4         19572              1          0   \n",
       "5        120982              2          0   \n",
       "\n",
       "                                               notes  \n",
       "0                                    just testing SW  \n",
       "1                                    another SW test  \n",
       "2                                   FPGA still wrong  \n",
       "3                                   FPGA still wrong  \n",
       "4  sequence aborted because slit axis was note th...  \n",
       "5                                    data is strange  "
      ]
     },
     "execution_count": 51,
     "metadata": {},
     "output_type": "execute_result"
    }
   ],
   "source": [
    "df"
   ]
  },
  {
   "cell_type": "code",
   "execution_count": 52,
   "metadata": {},
   "outputs": [],
   "source": [
    "df = pd.DataFrame({'pfs_visit_id': [120982], \n",
    "                   'sps_camera_id': [2], \n",
    "                   'data_flag': [0],\n",
    "                   'notes': ['data is VERY strange']\n",
    "                  })\n",
    "db.update('sps_annotation', df)"
   ]
  },
  {
   "cell_type": "code",
   "execution_count": 53,
   "metadata": {},
   "outputs": [],
   "source": [
    "df = db.fetch_all('sps_annotation')"
   ]
  },
  {
   "cell_type": "code",
   "execution_count": 54,
   "metadata": {},
   "outputs": [
    {
     "data": {
      "text/html": [
       "<div>\n",
       "<style scoped>\n",
       "    .dataframe tbody tr th:only-of-type {\n",
       "        vertical-align: middle;\n",
       "    }\n",
       "\n",
       "    .dataframe tbody tr th {\n",
       "        vertical-align: top;\n",
       "    }\n",
       "\n",
       "    .dataframe thead th {\n",
       "        text-align: right;\n",
       "    }\n",
       "</style>\n",
       "<table border=\"1\" class=\"dataframe\">\n",
       "  <thead>\n",
       "    <tr style=\"text-align: right;\">\n",
       "      <th></th>\n",
       "      <th>pfs_visit_id</th>\n",
       "      <th>sps_camera_id</th>\n",
       "      <th>data_flag</th>\n",
       "      <th>notes</th>\n",
       "    </tr>\n",
       "  </thead>\n",
       "  <tbody>\n",
       "    <tr>\n",
       "      <th>0</th>\n",
       "      <td>17687</td>\n",
       "      <td>1</td>\n",
       "      <td>0</td>\n",
       "      <td>just testing SW</td>\n",
       "    </tr>\n",
       "    <tr>\n",
       "      <th>1</th>\n",
       "      <td>17687</td>\n",
       "      <td>2</td>\n",
       "      <td>0</td>\n",
       "      <td>another SW test</td>\n",
       "    </tr>\n",
       "    <tr>\n",
       "      <th>2</th>\n",
       "      <td>17741</td>\n",
       "      <td>1</td>\n",
       "      <td>0</td>\n",
       "      <td>FPGA still wrong</td>\n",
       "    </tr>\n",
       "    <tr>\n",
       "      <th>3</th>\n",
       "      <td>17741</td>\n",
       "      <td>2</td>\n",
       "      <td>0</td>\n",
       "      <td>FPGA still wrong</td>\n",
       "    </tr>\n",
       "    <tr>\n",
       "      <th>4</th>\n",
       "      <td>19572</td>\n",
       "      <td>1</td>\n",
       "      <td>0</td>\n",
       "      <td>sequence aborted because slit axis was note th...</td>\n",
       "    </tr>\n",
       "    <tr>\n",
       "      <th>5</th>\n",
       "      <td>120982</td>\n",
       "      <td>2</td>\n",
       "      <td>0</td>\n",
       "      <td>data is VERY strange</td>\n",
       "    </tr>\n",
       "  </tbody>\n",
       "</table>\n",
       "</div>"
      ],
      "text/plain": [
       "   pfs_visit_id  sps_camera_id  data_flag  \\\n",
       "0         17687              1          0   \n",
       "1         17687              2          0   \n",
       "2         17741              1          0   \n",
       "3         17741              2          0   \n",
       "4         19572              1          0   \n",
       "5        120982              2          0   \n",
       "\n",
       "                                               notes  \n",
       "0                                    just testing SW  \n",
       "1                                    another SW test  \n",
       "2                                   FPGA still wrong  \n",
       "3                                   FPGA still wrong  \n",
       "4  sequence aborted because slit axis was note th...  \n",
       "5                               data is VERY strange  "
      ]
     },
     "execution_count": 54,
     "metadata": {},
     "output_type": "execute_result"
    }
   ],
   "source": [
    "df"
   ]
  },
  {
   "cell_type": "code",
   "execution_count": 55,
   "metadata": {},
   "outputs": [],
   "source": [
    "db.close()"
   ]
  },
  {
   "cell_type": "markdown",
   "metadata": {},
   "source": [
    "#### or use utils (one-liner usage)"
   ]
  },
  {
   "cell_type": "code",
   "execution_count": 56,
   "metadata": {},
   "outputs": [],
   "source": [
    "df = pd.DataFrame({'pfs_visit_id': [120982], \n",
    "                   'sps_camera_id': [2], \n",
    "                   'data_flag': [0],\n",
    "                   'notes': ['data is strange']\n",
    "                  })"
   ]
  },
  {
   "cell_type": "code",
   "execution_count": 57,
   "metadata": {},
   "outputs": [
    {
     "name": "stdout",
     "output_type": "stream",
     "text": [
      "transaction error\n"
     ]
    },
    {
     "data": {
      "text/plain": [
       "0"
      ]
     },
     "execution_count": 57,
     "metadata": {},
     "output_type": "execute_result"
    }
   ],
   "source": [
    "utils.insert(url, 'sps_annotation', df)"
   ]
  },
  {
   "cell_type": "code",
   "execution_count": 58,
   "metadata": {},
   "outputs": [],
   "source": [
    "df = utils.fetch_all(url, 'sps_annotation')"
   ]
  },
  {
   "cell_type": "code",
   "execution_count": 59,
   "metadata": {},
   "outputs": [
    {
     "data": {
      "text/html": [
       "<div>\n",
       "<style scoped>\n",
       "    .dataframe tbody tr th:only-of-type {\n",
       "        vertical-align: middle;\n",
       "    }\n",
       "\n",
       "    .dataframe tbody tr th {\n",
       "        vertical-align: top;\n",
       "    }\n",
       "\n",
       "    .dataframe thead th {\n",
       "        text-align: right;\n",
       "    }\n",
       "</style>\n",
       "<table border=\"1\" class=\"dataframe\">\n",
       "  <thead>\n",
       "    <tr style=\"text-align: right;\">\n",
       "      <th></th>\n",
       "      <th>pfs_visit_id</th>\n",
       "      <th>sps_camera_id</th>\n",
       "      <th>data_flag</th>\n",
       "      <th>notes</th>\n",
       "    </tr>\n",
       "  </thead>\n",
       "  <tbody>\n",
       "    <tr>\n",
       "      <th>0</th>\n",
       "      <td>17687</td>\n",
       "      <td>1</td>\n",
       "      <td>0</td>\n",
       "      <td>just testing SW</td>\n",
       "    </tr>\n",
       "    <tr>\n",
       "      <th>1</th>\n",
       "      <td>17687</td>\n",
       "      <td>2</td>\n",
       "      <td>0</td>\n",
       "      <td>another SW test</td>\n",
       "    </tr>\n",
       "    <tr>\n",
       "      <th>2</th>\n",
       "      <td>17741</td>\n",
       "      <td>1</td>\n",
       "      <td>0</td>\n",
       "      <td>FPGA still wrong</td>\n",
       "    </tr>\n",
       "    <tr>\n",
       "      <th>3</th>\n",
       "      <td>17741</td>\n",
       "      <td>2</td>\n",
       "      <td>0</td>\n",
       "      <td>FPGA still wrong</td>\n",
       "    </tr>\n",
       "    <tr>\n",
       "      <th>4</th>\n",
       "      <td>19572</td>\n",
       "      <td>1</td>\n",
       "      <td>0</td>\n",
       "      <td>sequence aborted because slit axis was note th...</td>\n",
       "    </tr>\n",
       "    <tr>\n",
       "      <th>5</th>\n",
       "      <td>120982</td>\n",
       "      <td>2</td>\n",
       "      <td>0</td>\n",
       "      <td>data is VERY strange</td>\n",
       "    </tr>\n",
       "  </tbody>\n",
       "</table>\n",
       "</div>"
      ],
      "text/plain": [
       "   pfs_visit_id  sps_camera_id  data_flag  \\\n",
       "0         17687              1          0   \n",
       "1         17687              2          0   \n",
       "2         17741              1          0   \n",
       "3         17741              2          0   \n",
       "4         19572              1          0   \n",
       "5        120982              2          0   \n",
       "\n",
       "                                               notes  \n",
       "0                                    just testing SW  \n",
       "1                                    another SW test  \n",
       "2                                   FPGA still wrong  \n",
       "3                                   FPGA still wrong  \n",
       "4  sequence aborted because slit axis was note th...  \n",
       "5                               data is VERY strange  "
      ]
     },
     "execution_count": 59,
     "metadata": {},
     "output_type": "execute_result"
    }
   ],
   "source": [
    "df"
   ]
  },
  {
   "cell_type": "code",
   "execution_count": 60,
   "metadata": {},
   "outputs": [],
   "source": [
    "df = pd.DataFrame({'pfs_visit_id': [120982], \n",
    "                   'sps_camera_id': [2], \n",
    "                   'data_flag': [0],\n",
    "                   'notes': ['data is VERY strange']\n",
    "                  })"
   ]
  },
  {
   "cell_type": "code",
   "execution_count": 61,
   "metadata": {},
   "outputs": [
    {
     "data": {
      "text/plain": [
       "0"
      ]
     },
     "execution_count": 61,
     "metadata": {},
     "output_type": "execute_result"
    }
   ],
   "source": [
    "utils.update(url, 'sps_annotation', df)"
   ]
  },
  {
   "cell_type": "code",
   "execution_count": 62,
   "metadata": {},
   "outputs": [],
   "source": [
    "df = utils.fetch_all(url, 'sps_annotation')"
   ]
  },
  {
   "cell_type": "code",
   "execution_count": 63,
   "metadata": {},
   "outputs": [
    {
     "data": {
      "text/html": [
       "<div>\n",
       "<style scoped>\n",
       "    .dataframe tbody tr th:only-of-type {\n",
       "        vertical-align: middle;\n",
       "    }\n",
       "\n",
       "    .dataframe tbody tr th {\n",
       "        vertical-align: top;\n",
       "    }\n",
       "\n",
       "    .dataframe thead th {\n",
       "        text-align: right;\n",
       "    }\n",
       "</style>\n",
       "<table border=\"1\" class=\"dataframe\">\n",
       "  <thead>\n",
       "    <tr style=\"text-align: right;\">\n",
       "      <th></th>\n",
       "      <th>pfs_visit_id</th>\n",
       "      <th>sps_camera_id</th>\n",
       "      <th>data_flag</th>\n",
       "      <th>notes</th>\n",
       "    </tr>\n",
       "  </thead>\n",
       "  <tbody>\n",
       "    <tr>\n",
       "      <th>0</th>\n",
       "      <td>17687</td>\n",
       "      <td>1</td>\n",
       "      <td>0</td>\n",
       "      <td>just testing SW</td>\n",
       "    </tr>\n",
       "    <tr>\n",
       "      <th>1</th>\n",
       "      <td>17687</td>\n",
       "      <td>2</td>\n",
       "      <td>0</td>\n",
       "      <td>another SW test</td>\n",
       "    </tr>\n",
       "    <tr>\n",
       "      <th>2</th>\n",
       "      <td>17741</td>\n",
       "      <td>1</td>\n",
       "      <td>0</td>\n",
       "      <td>FPGA still wrong</td>\n",
       "    </tr>\n",
       "    <tr>\n",
       "      <th>3</th>\n",
       "      <td>17741</td>\n",
       "      <td>2</td>\n",
       "      <td>0</td>\n",
       "      <td>FPGA still wrong</td>\n",
       "    </tr>\n",
       "    <tr>\n",
       "      <th>4</th>\n",
       "      <td>19572</td>\n",
       "      <td>1</td>\n",
       "      <td>0</td>\n",
       "      <td>sequence aborted because slit axis was note th...</td>\n",
       "    </tr>\n",
       "    <tr>\n",
       "      <th>5</th>\n",
       "      <td>120982</td>\n",
       "      <td>2</td>\n",
       "      <td>0</td>\n",
       "      <td>data is VERY strange</td>\n",
       "    </tr>\n",
       "  </tbody>\n",
       "</table>\n",
       "</div>"
      ],
      "text/plain": [
       "   pfs_visit_id  sps_camera_id  data_flag  \\\n",
       "0         17687              1          0   \n",
       "1         17687              2          0   \n",
       "2         17741              1          0   \n",
       "3         17741              2          0   \n",
       "4         19572              1          0   \n",
       "5        120982              2          0   \n",
       "\n",
       "                                               notes  \n",
       "0                                    just testing SW  \n",
       "1                                    another SW test  \n",
       "2                                   FPGA still wrong  \n",
       "3                                   FPGA still wrong  \n",
       "4  sequence aborted because slit axis was note th...  \n",
       "5                               data is VERY strange  "
      ]
     },
     "execution_count": 63,
     "metadata": {},
     "output_type": "execute_result"
    }
   ],
   "source": [
    "df"
   ]
  },
  {
   "cell_type": "code",
   "execution_count": null,
   "metadata": {},
   "outputs": [],
   "source": []
  },
  {
   "cell_type": "markdown",
   "metadata": {},
   "source": [
    "## usage for MCS/PFI"
   ]
  },
  {
   "cell_type": "markdown",
   "metadata": {},
   "source": [
    "**TBW**"
   ]
  },
  {
   "cell_type": "markdown",
   "metadata": {},
   "source": [
    "## usage for others"
   ]
  },
  {
   "cell_type": "markdown",
   "metadata": {},
   "source": [
    "**TBW**"
   ]
  },
  {
   "cell_type": "code",
   "execution_count": null,
   "metadata": {},
   "outputs": [],
   "source": []
  }
 ],
 "metadata": {
  "kernelspec": {
   "display_name": "Python 3",
   "language": "python",
   "name": "python3"
  },
  "language_info": {
   "codemirror_mode": {
    "name": "ipython",
    "version": 3
   },
   "file_extension": ".py",
   "mimetype": "text/x-python",
   "name": "python",
   "nbconvert_exporter": "python",
   "pygments_lexer": "ipython3",
   "version": "3.7.4"
  }
 },
 "nbformat": 4,
 "nbformat_minor": 4
}
