{
 "cells": [
  {
   "cell_type": "markdown",
   "metadata": {},
   "source": [
    "# example of ingesting `pfsDesign`/`pfsConfig`"
   ]
  },
  {
   "cell_type": "code",
   "execution_count": 20,
   "metadata": {
    "ExecuteTime": {
     "end_time": "2021-11-19T04:54:16.870794Z",
     "start_time": "2021-11-19T04:54:16.839638Z"
    }
   },
   "outputs": [
    {
     "name": "stdout",
     "output_type": "stream",
     "text": [
      "The autoreload extension is already loaded. To reload it, use:\n",
      "  %reload_ext autoreload\n"
     ]
    }
   ],
   "source": [
    "%matplotlib inline\n",
    "%load_ext autoreload\n",
    "%autoreload 2\n",
    "\n",
    "import sys\n",
    "import datetime\n",
    "import numpy as np\n",
    "import pandas as pd\n",
    "import matplotlib.pyplot as plt\n",
    "import datetime"
   ]
  },
  {
   "cell_type": "code",
   "execution_count": 21,
   "metadata": {
    "ExecuteTime": {
     "end_time": "2021-11-19T04:54:17.530775Z",
     "start_time": "2021-11-19T04:54:17.498599Z"
    }
   },
   "outputs": [],
   "source": [
    "from opdb import models,utils,manage"
   ]
  },
  {
   "cell_type": "code",
   "execution_count": 22,
   "metadata": {
    "ExecuteTime": {
     "end_time": "2021-11-19T04:54:18.599641Z",
     "start_time": "2021-11-19T04:54:18.566153Z"
    }
   },
   "outputs": [],
   "source": [
    "sys.path.append('/work/PFS/repo/datamodel/python')\n",
    "from pfs.datamodel.pfsConfig import PfsDesign, PfsConfig\n",
    "from pfs.datamodel.guideStars import GuideStars\n",
    "from pfs.datamodel import utils as dm_utils"
   ]
  },
  {
   "cell_type": "markdown",
   "metadata": {},
   "source": [
    "## read `pfsDesign`"
   ]
  },
  {
   "cell_type": "code",
   "execution_count": 6,
   "metadata": {
    "ExecuteTime": {
     "end_time": "2021-11-19T03:36:37.732642Z",
     "start_time": "2021-11-19T03:36:37.701894Z"
    }
   },
   "outputs": [],
   "source": [
    "pfsDesignId = 0x6598b4f9395d81d3"
   ]
  },
  {
   "cell_type": "code",
   "execution_count": 7,
   "metadata": {
    "ExecuteTime": {
     "end_time": "2021-11-19T03:36:39.487912Z",
     "start_time": "2021-11-19T03:36:38.869736Z"
    }
   },
   "outputs": [],
   "source": [
    "pfsDesign = PfsDesign.read(pfsDesignId=pfsDesignId)"
   ]
  },
  {
   "cell_type": "code",
   "execution_count": 8,
   "metadata": {
    "ExecuteTime": {
     "end_time": "2021-11-19T03:36:39.516053Z",
     "start_time": "2021-11-19T03:36:39.490372Z"
    }
   },
   "outputs": [],
   "source": [
    "pfsDesign.designName = ''"
   ]
  },
  {
   "cell_type": "markdown",
   "metadata": {},
   "source": [
    "## populate `pfs_design`"
   ]
  },
  {
   "cell_type": "code",
   "execution_count": 9,
   "metadata": {
    "ExecuteTime": {
     "end_time": "2021-11-19T03:36:41.078937Z",
     "start_time": "2021-11-19T03:36:41.041756Z"
    }
   },
   "outputs": [],
   "source": [
    "sys.path.append('/work/PFS/repo/pfs_utils/python')\n",
    "from pfs.utils.ingestPfsDesign import ingestPfsDesign, ingestPfsConfig"
   ]
  },
  {
   "cell_type": "code",
   "execution_count": 10,
   "metadata": {
    "ExecuteTime": {
     "end_time": "2021-11-19T03:36:43.663872Z",
     "start_time": "2021-11-19T03:36:43.632460Z"
    }
   },
   "outputs": [],
   "source": [
    "designed_at = datetime.datetime.now()\n",
    "to_be_observed_at = datetime.datetime.now()"
   ]
  },
  {
   "cell_type": "code",
   "execution_count": 11,
   "metadata": {
    "ExecuteTime": {
     "end_time": "2021-11-19T03:36:54.910770Z",
     "start_time": "2021-11-19T03:36:46.734894Z"
    },
    "scrolled": false
   },
   "outputs": [],
   "source": [
    "#ingestPfsDesign(pfsDesign, designed_at, to_be_observed_at)\n",
    "#ingestPfsDesign(pfsDesign)"
   ]
  },
  {
   "cell_type": "markdown",
   "metadata": {},
   "source": [
    "## populate `pfs_config`"
   ]
  },
  {
   "cell_type": "code",
   "execution_count": 15,
   "metadata": {
    "ExecuteTime": {
     "end_time": "2021-11-19T03:39:08.563588Z",
     "start_time": "2021-11-19T03:39:08.531611Z"
    }
   },
   "outputs": [],
   "source": [
    "visit0 = 1234567"
   ]
  },
  {
   "cell_type": "code",
   "execution_count": 16,
   "metadata": {
    "ExecuteTime": {
     "end_time": "2021-11-19T03:39:08.845154Z",
     "start_time": "2021-11-19T03:39:08.784863Z"
    }
   },
   "outputs": [],
   "source": [
    "pfsConfig = PfsConfig(pfsDesignId=pfsDesign.pfsDesignId, visit0=visit0, \n",
    "                      raBoresight=pfsDesign.raBoresight, decBoresight=pfsDesign.decBoresight,\n",
    "                      posAng=pfsDesign.posAng, arms=pfsDesign.arms,\n",
    "                      fiberId=pfsDesign.fiberId, \n",
    "                      tract=pfsDesign.tract, \n",
    "                      patch=pfsDesign.patch, \n",
    "                      ra=pfsDesign.ra, \n",
    "                      dec=pfsDesign.dec, \n",
    "                      catId=pfsDesign.catId, \n",
    "                      objId=pfsDesign.objId,\n",
    "                      targetType=pfsDesign.targetType, \n",
    "                      fiberStatus=pfsDesign.fiberStatus,\n",
    "                      fiberFlux=pfsDesign.fiberFlux,\n",
    "                      psfFlux=pfsDesign.psfFlux,\n",
    "                      totalFlux=pfsDesign.totalFlux,\n",
    "                      fiberFluxErr=pfsDesign.fiberFluxErr,\n",
    "                      psfFluxErr=pfsDesign.psfFluxErr,\n",
    "                      totalFluxErr=pfsDesign.totalFluxErr,\n",
    "                      filterNames=pfsDesign.filterNames, \n",
    "                      pfiCenter=pfsDesign.pfiNominal, \n",
    "                      pfiNominal=pfsDesign.pfiNominal,\n",
    "                      guideStars=pfsDesign.guideStars)"
   ]
  },
  {
   "cell_type": "code",
   "execution_count": 17,
   "metadata": {
    "ExecuteTime": {
     "end_time": "2021-11-19T03:39:09.602425Z",
     "start_time": "2021-11-19T03:39:09.570891Z"
    }
   },
   "outputs": [],
   "source": [
    "allocated_at = datetime.datetime.now()"
   ]
  },
  {
   "cell_type": "code",
   "execution_count": 18,
   "metadata": {
    "ExecuteTime": {
     "end_time": "2021-11-19T03:39:41.094503Z",
     "start_time": "2021-11-19T03:39:33.277827Z"
    }
   },
   "outputs": [],
   "source": [
    "#ingestPfsConfig(pfsConfig, allocated_at)\n",
    "#ingestPfsConfig(pfsConfig)"
   ]
  },
  {
   "cell_type": "code",
   "execution_count": null,
   "metadata": {},
   "outputs": [],
   "source": []
  }
 ],
 "metadata": {
  "kernelspec": {
   "display_name": "Python 3",
   "language": "python",
   "name": "python3"
  },
  "language_info": {
   "codemirror_mode": {
    "name": "ipython",
    "version": 3
   },
   "file_extension": ".py",
   "mimetype": "text/x-python",
   "name": "python",
   "nbconvert_exporter": "python",
   "pygments_lexer": "ipython3",
   "version": "3.7.6"
  },
  "toc": {
   "base_numbering": 1,
   "nav_menu": {},
   "number_sections": true,
   "sideBar": true,
   "skip_h1_title": false,
   "title_cell": "Table of Contents",
   "title_sidebar": "Contents",
   "toc_cell": false,
   "toc_position": {},
   "toc_section_display": true,
   "toc_window_display": false
  },
  "toc-autonumbering": true,
  "toc-showcode": false,
  "toc-showmarkdowntxt": false,
  "toc-showtags": false
 },
 "nbformat": 4,
 "nbformat_minor": 4
}
