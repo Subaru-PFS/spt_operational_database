{
 "cells": [
  {
   "cell_type": "markdown",
   "metadata": {},
   "source": [
    "# example of ingesting `pfsDesign`/`pfsConfig`"
   ]
  },
  {
   "cell_type": "code",
   "execution_count": 1,
   "metadata": {},
   "outputs": [],
   "source": [
    "%matplotlib inline\n",
    "%load_ext autoreload\n",
    "%autoreload 2\n",
    "\n",
    "import sys\n",
    "import datetime\n",
    "import numpy as np\n",
    "import pandas as pd\n",
    "import matplotlib.pyplot as plt"
   ]
  },
  {
   "cell_type": "code",
   "execution_count": 2,
   "metadata": {},
   "outputs": [],
   "source": [
    "from opdb import models,utils,manage"
   ]
  },
  {
   "cell_type": "code",
   "execution_count": 3,
   "metadata": {},
   "outputs": [],
   "source": [
    "sys.path.append('/work/PFS/repo/datamodel/python')\n",
    "from pfs.datamodel.pfsConfig import PfsDesign, PfsConfig\n",
    "from pfs.datamodel.guideStars import GuideStars\n",
    "from pfs.datamodel import utils as dm_utils"
   ]
  },
  {
   "cell_type": "markdown",
   "metadata": {},
   "source": [
    "## DB information"
   ]
  },
  {
   "cell_type": "code",
   "execution_count": 4,
   "metadata": {},
   "outputs": [],
   "source": [
    "hostname=''\n",
    "port=''\n",
    "dbname=''\n",
    "username=''\n",
    "passwd=''"
   ]
  },
  {
   "cell_type": "code",
   "execution_count": 5,
   "metadata": {},
   "outputs": [],
   "source": [
    "url='postgresql://%s:%s@%s:%s/%s' % (username, passwd, hostname, port, dbname)"
   ]
  },
  {
   "cell_type": "markdown",
   "metadata": {},
   "source": [
    "## populate `cobra` table"
   ]
  },
  {
   "cell_type": "code",
   "execution_count": 6,
   "metadata": {},
   "outputs": [],
   "source": [
    "dir_name = '/work/PFS/repo/pfs_utils/data/fiberids/'\n",
    "filename = dir_name + 'grandfibermap.20210314.txt'"
   ]
  },
  {
   "cell_type": "code",
   "execution_count": 7,
   "metadata": {},
   "outputs": [],
   "source": [
    "cobra_id = []\n",
    "cobra_fld = []\n",
    "cobra_cf = []\n",
    "cobra_mod = []\n",
    "cobra_mf = []\n",
    "cobra_cm = []\n",
    "cobra_cbrd = []\n",
    "cobra_brd = []\n",
    "cobra_mtp = []\n",
    "cobra_x = []\n",
    "cobra_y = []\n",
    "cobra_r = []\n",
    "cobra_sp = []\n",
    "cobra_fh = []\n",
    "cobra_sfib = []\n",
    "cobra_fiberId = []\n",
    "cobra_sunss = []\n",
    "cobra_ida = []\n",
    "cobra_idc = []\n",
    "cobra_idba = []\n",
    "cobra_idbc = []\n",
    "cobra_version = []\n",
    "with open(filename, 'r') as f:\n",
    "    for line in f:\n",
    "        if 'cob ' not in line:\n",
    "            a = line.split()\n",
    "            if a[0] != '-':\n",
    "                cobra_id.append(int(a[0]))\n",
    "                cobra_fld.append(int(a[1]))\n",
    "                cobra_cf.append(int(a[2]))\n",
    "                cobra_mod.append(int(a[3]))\n",
    "                cobra_mf.append(int(a[4]))\n",
    "                cobra_cm.append(int(a[5]))\n",
    "                cobra_cbrd.append(int(a[6]))\n",
    "                cobra_brd.append(int(a[7]))\n",
    "                cobra_mtp.append(a[8])\n",
    "                cobra_x.append(float(a[9]))\n",
    "                cobra_y.append(float(a[10]))\n",
    "                cobra_r.append(float(a[11]))\n",
    "                cobra_sp.append(int(a[12]))\n",
    "                cobra_fh.append(int(a[13]))\n",
    "                cobra_sfib.append(a[14])\n",
    "                cobra_fiberId.append(int(a[15]))\n",
    "                cobra_sunss.append(a[16])\n",
    "                cobra_ida.append(a[17])\n",
    "                cobra_idc.append(a[18])\n",
    "                cobra_idba.append(a[19])\n",
    "                cobra_idbc.append(a[20])\n",
    "                cobra_version.append('20210314')\n",
    "created_at = datetime.datetime.now()\n",
    "updated_at = datetime.datetime.now()"
   ]
  },
  {
   "cell_type": "code",
   "execution_count": 8,
   "metadata": {},
   "outputs": [
    {
     "data": {
      "text/html": [
       "<div>\n",
       "<style scoped>\n",
       "    .dataframe tbody tr th:only-of-type {\n",
       "        vertical-align: middle;\n",
       "    }\n",
       "\n",
       "    .dataframe tbody tr th {\n",
       "        vertical-align: top;\n",
       "    }\n",
       "\n",
       "    .dataframe thead th {\n",
       "        text-align: right;\n",
       "    }\n",
       "</style>\n",
       "<table border=\"1\" class=\"dataframe\">\n",
       "  <thead>\n",
       "    <tr style=\"text-align: right;\">\n",
       "      <th></th>\n",
       "      <th>cobra_id</th>\n",
       "      <th>field_on_pfi</th>\n",
       "      <th>cobra_in_field</th>\n",
       "      <th>cobra_module_id</th>\n",
       "      <th>module_in_field</th>\n",
       "      <th>cobra_in_module</th>\n",
       "      <th>cobra_in_board</th>\n",
       "      <th>cobra_board_id</th>\n",
       "      <th>mtp</th>\n",
       "      <th>sps_module_id</th>\n",
       "      <th>...</th>\n",
       "      <th>science_fiber_id</th>\n",
       "      <th>fiber_id</th>\n",
       "      <th>sunss_id</th>\n",
       "      <th>mtp_a_id</th>\n",
       "      <th>mtp_c_id</th>\n",
       "      <th>mtp_ba_id</th>\n",
       "      <th>mtp_bc_id</th>\n",
       "      <th>version</th>\n",
       "      <th>created_at</th>\n",
       "      <th>updated_at</th>\n",
       "    </tr>\n",
       "  </thead>\n",
       "  <tbody>\n",
       "    <tr>\n",
       "      <th>0</th>\n",
       "      <td>172</td>\n",
       "      <td>1</td>\n",
       "      <td>172</td>\n",
       "      <td>4</td>\n",
       "      <td>4</td>\n",
       "      <td>1</td>\n",
       "      <td>1</td>\n",
       "      <td>7</td>\n",
       "      <td>4A</td>\n",
       "      <td>1</td>\n",
       "      <td>...</td>\n",
       "      <td>1</td>\n",
       "      <td>2</td>\n",
       "      <td>emp</td>\n",
       "      <td>U3-1-1-2-1</td>\n",
       "      <td>U3-1-1-7-1</td>\n",
       "      <td>U3-1-1-26-1</td>\n",
       "      <td>U3-1-1-31-1</td>\n",
       "      <td>20210314</td>\n",
       "      <td>2021-09-21 21:44:32.722362</td>\n",
       "      <td>2021-09-21 21:44:32.722463</td>\n",
       "    </tr>\n",
       "    <tr>\n",
       "      <th>1</th>\n",
       "      <td>173</td>\n",
       "      <td>1</td>\n",
       "      <td>173</td>\n",
       "      <td>4</td>\n",
       "      <td>4</td>\n",
       "      <td>2</td>\n",
       "      <td>1</td>\n",
       "      <td>8</td>\n",
       "      <td>4A</td>\n",
       "      <td>1</td>\n",
       "      <td>...</td>\n",
       "      <td>2</td>\n",
       "      <td>3</td>\n",
       "      <td>d2</td>\n",
       "      <td>U3-1-1-3-2</td>\n",
       "      <td>U3-1-1-6-2</td>\n",
       "      <td>U3-1-1-27-2</td>\n",
       "      <td>U3-1-1-30-2</td>\n",
       "      <td>20210314</td>\n",
       "      <td>2021-09-21 21:44:32.722362</td>\n",
       "      <td>2021-09-21 21:44:32.722463</td>\n",
       "    </tr>\n",
       "    <tr>\n",
       "      <th>2</th>\n",
       "      <td>174</td>\n",
       "      <td>1</td>\n",
       "      <td>174</td>\n",
       "      <td>4</td>\n",
       "      <td>4</td>\n",
       "      <td>3</td>\n",
       "      <td>2</td>\n",
       "      <td>7</td>\n",
       "      <td>4A</td>\n",
       "      <td>1</td>\n",
       "      <td>...</td>\n",
       "      <td>3</td>\n",
       "      <td>4</td>\n",
       "      <td>emp</td>\n",
       "      <td>U3-1-1-4-3</td>\n",
       "      <td>U3-1-1-5-3</td>\n",
       "      <td>U3-1-1-28-3</td>\n",
       "      <td>U3-1-1-29-3</td>\n",
       "      <td>20210314</td>\n",
       "      <td>2021-09-21 21:44:32.722362</td>\n",
       "      <td>2021-09-21 21:44:32.722463</td>\n",
       "    </tr>\n",
       "  </tbody>\n",
       "</table>\n",
       "<p>3 rows × 21 columns</p>\n",
       "</div>"
      ],
      "text/plain": [
       "   cobra_id  field_on_pfi  cobra_in_field  cobra_module_id  module_in_field  \\\n",
       "0       172             1             172                4                4   \n",
       "1       173             1             173                4                4   \n",
       "2       174             1             174                4                4   \n",
       "\n",
       "   cobra_in_module  cobra_in_board  cobra_board_id mtp  sps_module_id  ...  \\\n",
       "0                1               1               7  4A              1  ...   \n",
       "1                2               1               8  4A              1  ...   \n",
       "2                3               2               7  4A              1  ...   \n",
       "\n",
       "   science_fiber_id fiber_id  sunss_id    mtp_a_id    mtp_c_id    mtp_ba_id  \\\n",
       "0                 1        2       emp  U3-1-1-2-1  U3-1-1-7-1  U3-1-1-26-1   \n",
       "1                 2        3        d2  U3-1-1-3-2  U3-1-1-6-2  U3-1-1-27-2   \n",
       "2                 3        4       emp  U3-1-1-4-3  U3-1-1-5-3  U3-1-1-28-3   \n",
       "\n",
       "     mtp_bc_id   version                 created_at                 updated_at  \n",
       "0  U3-1-1-31-1  20210314 2021-09-21 21:44:32.722362 2021-09-21 21:44:32.722463  \n",
       "1  U3-1-1-30-2  20210314 2021-09-21 21:44:32.722362 2021-09-21 21:44:32.722463  \n",
       "2  U3-1-1-29-3  20210314 2021-09-21 21:44:32.722362 2021-09-21 21:44:32.722463  \n",
       "\n",
       "[3 rows x 21 columns]"
      ]
     },
     "execution_count": 8,
     "metadata": {},
     "output_type": "execute_result"
    }
   ],
   "source": [
    "df = pd.DataFrame({'cobra_id': cobra_id, \n",
    "                   'field_on_pfi': cobra_fld,\n",
    "                   'cobra_in_field': cobra_cf,\n",
    "                   'cobra_module_id': cobra_mod,\n",
    "                   'module_in_field': cobra_mf,\n",
    "                   'cobra_in_module': cobra_cm,\n",
    "                   'cobra_in_board': cobra_cbrd,\n",
    "                   'cobra_board_id': cobra_brd,\n",
    "                   'mtp': cobra_mtp,\n",
    "                   'sps_module_id': cobra_sp,\n",
    "                   'sps_slit_hole': cobra_fh,\n",
    "                   'science_fiber_id': cobra_sfib,\n",
    "                   'fiber_id': cobra_fiberId,\n",
    "                   'sunss_id': cobra_sunss,\n",
    "                   'mtp_a_id': cobra_ida,\n",
    "                   'mtp_c_id': cobra_idc,\n",
    "                   'mtp_ba_id': cobra_idba,\n",
    "                   'mtp_bc_id': cobra_idbc,\n",
    "                   'version': cobra_version,\n",
    "                   'created_at': created_at,\n",
    "                   'updated_at': updated_at\n",
    "                  })\n",
    "df[:3]"
   ]
  },
  {
   "cell_type": "code",
   "execution_count": 9,
   "metadata": {},
   "outputs": [],
   "source": [
    "tab = 'cobra'\n",
    "try:\n",
    "    utils.insert(url, tab, df)\n",
    "except:\n",
    "    print('error')"
   ]
  },
  {
   "cell_type": "markdown",
   "metadata": {},
   "source": [
    "## read `pfsDesign`"
   ]
  },
  {
   "cell_type": "code",
   "execution_count": 10,
   "metadata": {},
   "outputs": [],
   "source": [
    "pfsDesignId = 0x000000000000002a"
   ]
  },
  {
   "cell_type": "code",
   "execution_count": 11,
   "metadata": {},
   "outputs": [],
   "source": [
    "pfsDesign = PfsDesign.read(pfsDesignId=pfsDesignId)"
   ]
  },
  {
   "cell_type": "code",
   "execution_count": 12,
   "metadata": {},
   "outputs": [],
   "source": [
    "guideStars = pfsDesign.guideStars"
   ]
  },
  {
   "cell_type": "markdown",
   "metadata": {},
   "source": [
    "## populate `pfs_design`"
   ]
  },
  {
   "cell_type": "code",
   "execution_count": 13,
   "metadata": {},
   "outputs": [],
   "source": [
    "expTimeTot = 900.\n",
    "expTimeMin = 900.\n",
    "numSciDesigned = len(pfsDesign.fiberId[pfsDesign.targetType==1])\n",
    "numCalDesigned = len(pfsDesign.fiberId[pfsDesign.targetType==3])\n",
    "numSkyDesigned = len(pfsDesign.fiberId[pfsDesign.targetType==2])\n",
    "#print(numSciDesigned)\n",
    "numGuideStars = len(pfsDesign.guideStars)\n",
    "designed_at = datetime.datetime.now()\n",
    "to_be_observed_at = datetime.datetime.now()"
   ]
  },
  {
   "cell_type": "code",
   "execution_count": 14,
   "metadata": {},
   "outputs": [
    {
     "data": {
      "text/html": [
       "<div>\n",
       "<style scoped>\n",
       "    .dataframe tbody tr th:only-of-type {\n",
       "        vertical-align: middle;\n",
       "    }\n",
       "\n",
       "    .dataframe tbody tr th {\n",
       "        vertical-align: top;\n",
       "    }\n",
       "\n",
       "    .dataframe thead th {\n",
       "        text-align: right;\n",
       "    }\n",
       "</style>\n",
       "<table border=\"1\" class=\"dataframe\">\n",
       "  <thead>\n",
       "    <tr style=\"text-align: right;\">\n",
       "      <th></th>\n",
       "      <th>pfs_design_id</th>\n",
       "      <th>ra_center_designed</th>\n",
       "      <th>dec_center_designed</th>\n",
       "      <th>pa_designed</th>\n",
       "      <th>num_sci_designed</th>\n",
       "      <th>num_cal_designed</th>\n",
       "      <th>num_sky_designed</th>\n",
       "      <th>num_guide_stars</th>\n",
       "      <th>exptime_tot</th>\n",
       "      <th>exptime_min</th>\n",
       "      <th>ets_version</th>\n",
       "      <th>ets_assigner</th>\n",
       "      <th>designed_at</th>\n",
       "      <th>to_be_observed_at</th>\n",
       "      <th>is_obsolete</th>\n",
       "    </tr>\n",
       "  </thead>\n",
       "  <tbody>\n",
       "    <tr>\n",
       "      <th>0</th>\n",
       "      <td>42</td>\n",
       "      <td>56.745</td>\n",
       "      <td>24.113</td>\n",
       "      <td>0.0</td>\n",
       "      <td>2041</td>\n",
       "      <td>0</td>\n",
       "      <td>0</td>\n",
       "      <td>37</td>\n",
       "      <td>900.0</td>\n",
       "      <td>900.0</td>\n",
       "      <td>test</td>\n",
       "      <td>test</td>\n",
       "      <td>2021-09-21 21:44:36.188130</td>\n",
       "      <td>2021-09-21 21:44:36.188161</td>\n",
       "      <td>False</td>\n",
       "    </tr>\n",
       "  </tbody>\n",
       "</table>\n",
       "</div>"
      ],
      "text/plain": [
       "   pfs_design_id  ra_center_designed  dec_center_designed  pa_designed  \\\n",
       "0             42              56.745               24.113          0.0   \n",
       "\n",
       "   num_sci_designed  num_cal_designed  num_sky_designed  num_guide_stars  \\\n",
       "0              2041                 0                 0               37   \n",
       "\n",
       "   exptime_tot  exptime_min ets_version ets_assigner  \\\n",
       "0        900.0        900.0        test         test   \n",
       "\n",
       "                 designed_at          to_be_observed_at  is_obsolete  \n",
       "0 2021-09-21 21:44:36.188130 2021-09-21 21:44:36.188161        False  "
      ]
     },
     "execution_count": 14,
     "metadata": {},
     "output_type": "execute_result"
    }
   ],
   "source": [
    "df = pd.DataFrame({'pfs_design_id': [pfsDesignId], \n",
    "                   'ra_center_designed': [pfsDesign.raBoresight],\n",
    "                   'dec_center_designed': [pfsDesign.decBoresight],\n",
    "                   'pa_designed': [pfsDesign.posAng],\n",
    "                   'num_sci_designed': [numSciDesigned],\n",
    "                   'num_cal_designed': [numCalDesigned],\n",
    "                   'num_sky_designed': [numSkyDesigned],\n",
    "                   'num_guide_stars' : [numGuideStars],\n",
    "                   'exptime_tot': [expTimeTot],\n",
    "                   'exptime_min': [expTimeMin],\n",
    "                   'ets_version': ['test'],\n",
    "                   'ets_assigner': ['test'],\n",
    "                   'designed_at' : [designed_at],\n",
    "                   'to_be_observed_at': [to_be_observed_at],\n",
    "                   'is_obsolete': [False]\n",
    "                  })\n",
    "df[:3]"
   ]
  },
  {
   "cell_type": "code",
   "execution_count": 15,
   "metadata": {},
   "outputs": [],
   "source": [
    "tab = 'pfs_design'\n",
    "try:\n",
    "    utils.insert(url, tab, df)\n",
    "except:\n",
    "    print('error')"
   ]
  },
  {
   "cell_type": "markdown",
   "metadata": {},
   "source": [
    "## populate `pfs_design_fiber`"
   ]
  },
  {
   "cell_type": "code",
   "execution_count": 16,
   "metadata": {},
   "outputs": [
    {
     "data": {
      "text/html": [
       "<div>\n",
       "<style scoped>\n",
       "    .dataframe tbody tr th:only-of-type {\n",
       "        vertical-align: middle;\n",
       "    }\n",
       "\n",
       "    .dataframe tbody tr th {\n",
       "        vertical-align: top;\n",
       "    }\n",
       "\n",
       "    .dataframe thead th {\n",
       "        text-align: right;\n",
       "    }\n",
       "</style>\n",
       "<table border=\"1\" class=\"dataframe\">\n",
       "  <thead>\n",
       "    <tr style=\"text-align: right;\">\n",
       "      <th></th>\n",
       "      <th>pfs_design_id</th>\n",
       "      <th>fiber_id</th>\n",
       "      <th>target_cat_id</th>\n",
       "      <th>target_tract</th>\n",
       "      <th>target_patch</th>\n",
       "      <th>target_obj_id</th>\n",
       "      <th>target_ra</th>\n",
       "      <th>target_dec</th>\n",
       "      <th>target_type</th>\n",
       "      <th>fiber_status</th>\n",
       "      <th>pfi_nominal_x_mm</th>\n",
       "      <th>pfi_nominal_y_mm</th>\n",
       "      <th>is_on_source</th>\n",
       "    </tr>\n",
       "  </thead>\n",
       "  <tbody>\n",
       "    <tr>\n",
       "      <th>0</th>\n",
       "      <td>42</td>\n",
       "      <td>0</td>\n",
       "      <td>-2147483648</td>\n",
       "      <td>-2147483648</td>\n",
       "      <td>nan,np.nan</td>\n",
       "      <td>65225954634927104</td>\n",
       "      <td>56.767045</td>\n",
       "      <td>24.137429</td>\n",
       "      <td>1</td>\n",
       "      <td>1</td>\n",
       "      <td>-9.970267</td>\n",
       "      <td>-1.007359</td>\n",
       "      <td>True</td>\n",
       "    </tr>\n",
       "    <tr>\n",
       "      <th>1</th>\n",
       "      <td>42</td>\n",
       "      <td>1</td>\n",
       "      <td>-2147483648</td>\n",
       "      <td>-2147483648</td>\n",
       "      <td>nan,np.nan</td>\n",
       "      <td>66715449293672960</td>\n",
       "      <td>56.794121</td>\n",
       "      <td>24.138081</td>\n",
       "      <td>1</td>\n",
       "      <td>1</td>\n",
       "      <td>-14.545673</td>\n",
       "      <td>-7.489861</td>\n",
       "      <td>True</td>\n",
       "    </tr>\n",
       "    <tr>\n",
       "      <th>2</th>\n",
       "      <td>42</td>\n",
       "      <td>2</td>\n",
       "      <td>-2147483648</td>\n",
       "      <td>-2147483648</td>\n",
       "      <td>nan,np.nan</td>\n",
       "      <td>65214169244668032</td>\n",
       "      <td>56.774900</td>\n",
       "      <td>24.111652</td>\n",
       "      <td>1</td>\n",
       "      <td>1</td>\n",
       "      <td>-4.363844</td>\n",
       "      <td>-7.479899</td>\n",
       "      <td>True</td>\n",
       "    </tr>\n",
       "  </tbody>\n",
       "</table>\n",
       "</div>"
      ],
      "text/plain": [
       "   pfs_design_id  fiber_id  target_cat_id  target_tract target_patch  \\\n",
       "0             42         0    -2147483648   -2147483648   nan,np.nan   \n",
       "1             42         1    -2147483648   -2147483648   nan,np.nan   \n",
       "2             42         2    -2147483648   -2147483648   nan,np.nan   \n",
       "\n",
       "       target_obj_id  target_ra  target_dec  target_type  fiber_status  \\\n",
       "0  65225954634927104  56.767045   24.137429            1             1   \n",
       "1  66715449293672960  56.794121   24.138081            1             1   \n",
       "2  65214169244668032  56.774900   24.111652            1             1   \n",
       "\n",
       "   pfi_nominal_x_mm  pfi_nominal_y_mm  is_on_source  \n",
       "0         -9.970267         -1.007359          True  \n",
       "1        -14.545673         -7.489861          True  \n",
       "2         -4.363844         -7.479899          True  "
      ]
     },
     "execution_count": 16,
     "metadata": {},
     "output_type": "execute_result"
    }
   ],
   "source": [
    "df = pd.DataFrame({'pfs_design_id': [pfsDesignId for v in pfsDesign.fiberId], \n",
    "                   'fiber_id': pfsDesign.fiberId,\n",
    "                   'target_cat_id': pfsDesign.catId,\n",
    "                   'target_tract': pfsDesign.tract,\n",
    "                   'target_patch': pfsDesign.patch,\n",
    "                   'target_obj_id': pfsDesign.objId,\n",
    "                   'target_ra': pfsDesign.ra,\n",
    "                   'target_dec': pfsDesign.dec,\n",
    "                   'target_type': pfsDesign.targetType,\n",
    "                   'fiber_status': pfsDesign.fiberStatus,\n",
    "                   'pfi_nominal_x_mm': pfsDesign.pfiNominal[:,0],\n",
    "                   'pfi_nominal_y_mm': pfsDesign.pfiNominal[:,1],\n",
    "                   'is_on_source': [True for v in pfsDesign.fiberId]\n",
    "                  })\n",
    "df[:3]"
   ]
  },
  {
   "cell_type": "code",
   "execution_count": 17,
   "metadata": {},
   "outputs": [],
   "source": [
    "tab = 'pfs_design_fiber'\n",
    "try:\n",
    "    utils.insert(url, tab, df)\n",
    "except:\n",
    "    print('error')"
   ]
  },
  {
   "cell_type": "markdown",
   "metadata": {},
   "source": [
    "## populate `pfs_design_agc`"
   ]
  },
  {
   "cell_type": "code",
   "execution_count": 18,
   "metadata": {},
   "outputs": [
    {
     "data": {
      "text/html": [
       "<div>\n",
       "<style scoped>\n",
       "    .dataframe tbody tr th:only-of-type {\n",
       "        vertical-align: middle;\n",
       "    }\n",
       "\n",
       "    .dataframe tbody tr th {\n",
       "        vertical-align: top;\n",
       "    }\n",
       "\n",
       "    .dataframe thead th {\n",
       "        text-align: right;\n",
       "    }\n",
       "</style>\n",
       "<table border=\"1\" class=\"dataframe\">\n",
       "  <thead>\n",
       "    <tr style=\"text-align: right;\">\n",
       "      <th></th>\n",
       "      <th>pfs_design_id</th>\n",
       "      <th>guide_star_id</th>\n",
       "      <th>epoch</th>\n",
       "      <th>guide_star_ra</th>\n",
       "      <th>guide_star_dec</th>\n",
       "      <th>guide_star_pm_ra</th>\n",
       "      <th>guide_star_pm_dec</th>\n",
       "      <th>guide_star_parallax</th>\n",
       "      <th>guide_star_magnitude</th>\n",
       "      <th>passband</th>\n",
       "      <th>guide_star_color</th>\n",
       "      <th>agc_camera_id</th>\n",
       "      <th>agc_target_x_pix</th>\n",
       "      <th>agc_target_y_pix</th>\n",
       "    </tr>\n",
       "  </thead>\n",
       "  <tbody>\n",
       "    <tr>\n",
       "      <th>0</th>\n",
       "      <td>42</td>\n",
       "      <td>2584704</td>\n",
       "      <td>0.0</td>\n",
       "      <td>56.306040</td>\n",
       "      <td>23.516473</td>\n",
       "      <td>20.285757</td>\n",
       "      <td>-44.955513</td>\n",
       "      <td>0.0</td>\n",
       "      <td>16.187000</td>\n",
       "      <td>??</td>\n",
       "      <td>0.0</td>\n",
       "      <td>0</td>\n",
       "      <td>683.008850</td>\n",
       "      <td>803.241821</td>\n",
       "    </tr>\n",
       "    <tr>\n",
       "      <th>1</th>\n",
       "      <td>42</td>\n",
       "      <td>496512</td>\n",
       "      <td>0.0</td>\n",
       "      <td>56.324023</td>\n",
       "      <td>23.507951</td>\n",
       "      <td>0.159365</td>\n",
       "      <td>-1.157290</td>\n",
       "      <td>0.0</td>\n",
       "      <td>18.199451</td>\n",
       "      <td>??</td>\n",
       "      <td>0.0</td>\n",
       "      <td>0</td>\n",
       "      <td>215.207748</td>\n",
       "      <td>857.312073</td>\n",
       "    </tr>\n",
       "    <tr>\n",
       "      <th>2</th>\n",
       "      <td>42</td>\n",
       "      <td>495104</td>\n",
       "      <td>0.0</td>\n",
       "      <td>56.324122</td>\n",
       "      <td>23.500084</td>\n",
       "      <td>21.984608</td>\n",
       "      <td>0.714444</td>\n",
       "      <td>0.0</td>\n",
       "      <td>16.249914</td>\n",
       "      <td>??</td>\n",
       "      <td>0.0</td>\n",
       "      <td>0</td>\n",
       "      <td>103.429405</td>\n",
       "      <td>680.665161</td>\n",
       "    </tr>\n",
       "  </tbody>\n",
       "</table>\n",
       "</div>"
      ],
      "text/plain": [
       "   pfs_design_id  guide_star_id epoch  guide_star_ra  guide_star_dec  \\\n",
       "0             42        2584704   0.0      56.306040       23.516473   \n",
       "1             42         496512   0.0      56.324023       23.507951   \n",
       "2             42         495104   0.0      56.324122       23.500084   \n",
       "\n",
       "   guide_star_pm_ra  guide_star_pm_dec  guide_star_parallax  \\\n",
       "0         20.285757         -44.955513                  0.0   \n",
       "1          0.159365          -1.157290                  0.0   \n",
       "2         21.984608           0.714444                  0.0   \n",
       "\n",
       "   guide_star_magnitude passband  guide_star_color  agc_camera_id  \\\n",
       "0             16.187000       ??               0.0              0   \n",
       "1             18.199451       ??               0.0              0   \n",
       "2             16.249914       ??               0.0              0   \n",
       "\n",
       "   agc_target_x_pix  agc_target_y_pix  \n",
       "0        683.008850        803.241821  \n",
       "1        215.207748        857.312073  \n",
       "2        103.429405        680.665161  "
      ]
     },
     "execution_count": 18,
     "metadata": {},
     "output_type": "execute_result"
    }
   ],
   "source": [
    "df = pd.DataFrame({'pfs_design_id': [pfsDesignId for v in guideStars.objId], \n",
    "                   'guide_star_id': guideStars.objId,\n",
    "                   'epoch': guideStars.epoch,\n",
    "                   'guide_star_ra': guideStars.ra,\n",
    "                   'guide_star_dec': guideStars.dec,\n",
    "                   'guide_star_pm_ra': guideStars.pmRa,\n",
    "                   'guide_star_pm_dec': guideStars.pmDec,\n",
    "                   'guide_star_parallax': guideStars.parallax,\n",
    "                   'guide_star_magnitude': guideStars.magnitude,\n",
    "                   'passband': guideStars.passband,\n",
    "                   'guide_star_color': guideStars.color,\n",
    "                   'agc_camera_id': guideStars.agId,\n",
    "                   'agc_target_x_pix': guideStars.agX,\n",
    "                   'agc_target_y_pix': guideStars.agY,\n",
    "                  })\n",
    "df[:3]"
   ]
  },
  {
   "cell_type": "code",
   "execution_count": 19,
   "metadata": {},
   "outputs": [],
   "source": [
    "tab = 'pfs_design_agc'\n",
    "try:\n",
    "    utils.insert(url, tab, df)\n",
    "except:\n",
    "    print('error')"
   ]
  },
  {
   "cell_type": "markdown",
   "metadata": {},
   "source": [
    "## create `pfsConfig`"
   ]
  },
  {
   "cell_type": "code",
   "execution_count": 20,
   "metadata": {},
   "outputs": [],
   "source": [
    "visit0 = 12345"
   ]
  },
  {
   "cell_type": "code",
   "execution_count": 21,
   "metadata": {},
   "outputs": [],
   "source": [
    "pfsConfig = PfsConfig(pfsDesignId=pfsDesignId, visit0=visit0, \n",
    "                      raBoresight=pfsDesign.raBoresight, decBoresight=pfsDesign.decBoresight,\n",
    "                      posAng=pfsDesign.posAng, arms=pfsDesign.arms,\n",
    "                      fiberId=pfsDesign.fiberId, \n",
    "                      tract=pfsDesign.tract, \n",
    "                      patch=pfsDesign.patch, \n",
    "                      ra=pfsDesign.ra, \n",
    "                      dec=pfsDesign.dec, \n",
    "                      catId=pfsDesign.catId, \n",
    "                      objId=pfsDesign.objId,\n",
    "                      targetType=pfsDesign.targetType, \n",
    "                      fiberStatus=pfsDesign.fiberStatus,\n",
    "                      fiberFlux=pfsDesign.fiberFlux,\n",
    "                      psfFlux=pfsDesign.psfFlux,\n",
    "                      totalFlux=pfsDesign.totalFlux,\n",
    "                      fiberFluxErr=pfsDesign.fiberFluxErr,\n",
    "                      psfFluxErr=pfsDesign.psfFluxErr,\n",
    "                      totalFluxErr=pfsDesign.totalFluxErr,\n",
    "                      filterNames=pfsDesign.filterNames, \n",
    "                      pfiCenter=pfsDesign.pfiNominal, \n",
    "                      pfiNominal=pfsDesign.pfiNominal,\n",
    "                      guideStars=pfsDesign.guideStars)"
   ]
  },
  {
   "cell_type": "code",
   "execution_count": 22,
   "metadata": {},
   "outputs": [
    {
     "name": "stderr",
     "output_type": "stream",
     "text": [
      "WARNING: VerifyWarning: Card is too long, comment will be truncated. [astropy.io.fits.card]\n"
     ]
    }
   ],
   "source": [
    "pfsConfig.write()"
   ]
  },
  {
   "cell_type": "markdown",
   "metadata": {},
   "source": [
    "## read `pfsConfig`"
   ]
  },
  {
   "cell_type": "code",
   "execution_count": 23,
   "metadata": {},
   "outputs": [],
   "source": [
    "pfsConfig = PfsConfig.read(pfsDesignId=pfsDesignId, visit0=visit0)\n",
    "guideStars = pfsConfig.guideStars"
   ]
  },
  {
   "cell_type": "markdown",
   "metadata": {},
   "source": [
    "## populate `pfs_config`"
   ]
  },
  {
   "cell_type": "code",
   "execution_count": 24,
   "metadata": {},
   "outputs": [],
   "source": [
    "converg_num_iter = 10\n",
    "converg_elapased_time = 60.\n",
    "alloc_rms_scatter = 0.2\n",
    "allocated_at = datetime.datetime.now()\n",
    "was_observed = False"
   ]
  },
  {
   "cell_type": "code",
   "execution_count": 25,
   "metadata": {},
   "outputs": [
    {
     "data": {
      "text/html": [
       "<div>\n",
       "<style scoped>\n",
       "    .dataframe tbody tr th:only-of-type {\n",
       "        vertical-align: middle;\n",
       "    }\n",
       "\n",
       "    .dataframe tbody tr th {\n",
       "        vertical-align: top;\n",
       "    }\n",
       "\n",
       "    .dataframe thead th {\n",
       "        text-align: right;\n",
       "    }\n",
       "</style>\n",
       "<table border=\"1\" class=\"dataframe\">\n",
       "  <thead>\n",
       "    <tr style=\"text-align: right;\">\n",
       "      <th></th>\n",
       "      <th>pfs_design_id</th>\n",
       "      <th>visit0</th>\n",
       "      <th>ra_center_config</th>\n",
       "      <th>dec_center_config</th>\n",
       "      <th>pa_config</th>\n",
       "      <th>converg_num_iter</th>\n",
       "      <th>converg_elapsed_time</th>\n",
       "      <th>alloc_rms_scatter</th>\n",
       "      <th>allocated_at</th>\n",
       "      <th>was_observed</th>\n",
       "    </tr>\n",
       "  </thead>\n",
       "  <tbody>\n",
       "    <tr>\n",
       "      <th>0</th>\n",
       "      <td>42</td>\n",
       "      <td>12345</td>\n",
       "      <td>56.745</td>\n",
       "      <td>24.113</td>\n",
       "      <td>0.0</td>\n",
       "      <td>10</td>\n",
       "      <td>60.0</td>\n",
       "      <td>0.2</td>\n",
       "      <td>2021-09-21 21:44:45.233962</td>\n",
       "      <td>False</td>\n",
       "    </tr>\n",
       "  </tbody>\n",
       "</table>\n",
       "</div>"
      ],
      "text/plain": [
       "   pfs_design_id  visit0  ra_center_config  dec_center_config  pa_config  \\\n",
       "0             42   12345            56.745             24.113        0.0   \n",
       "\n",
       "   converg_num_iter  converg_elapsed_time  alloc_rms_scatter  \\\n",
       "0                10                  60.0                0.2   \n",
       "\n",
       "                allocated_at  was_observed  \n",
       "0 2021-09-21 21:44:45.233962         False  "
      ]
     },
     "execution_count": 25,
     "metadata": {},
     "output_type": "execute_result"
    }
   ],
   "source": [
    "df = pd.DataFrame({'pfs_design_id': [pfsDesignId], \n",
    "                   'visit0': [visit0],\n",
    "                   'ra_center_config': [pfsConfig.raBoresight],\n",
    "                   'dec_center_config': [pfsConfig.decBoresight],\n",
    "                   'pa_config': [pfsConfig.posAng],\n",
    "                   'converg_num_iter': [converg_num_iter],\n",
    "                   'converg_elapsed_time': [converg_elapased_time],\n",
    "                   'alloc_rms_scatter': [alloc_rms_scatter],\n",
    "                   'allocated_at': [allocated_at],\n",
    "                   'was_observed': [was_observed]\n",
    "                  })\n",
    "df[:3]"
   ]
  },
  {
   "cell_type": "code",
   "execution_count": 26,
   "metadata": {},
   "outputs": [],
   "source": [
    "tab = 'pfs_config'\n",
    "try:\n",
    "    utils.insert(url, tab, df)\n",
    "except:\n",
    "    print('error')"
   ]
  },
  {
   "cell_type": "markdown",
   "metadata": {},
   "source": [
    "## populate `pfs_config_fiber`"
   ]
  },
  {
   "cell_type": "code",
   "execution_count": 27,
   "metadata": {},
   "outputs": [
    {
     "data": {
      "text/html": [
       "<div>\n",
       "<style scoped>\n",
       "    .dataframe tbody tr th:only-of-type {\n",
       "        vertical-align: middle;\n",
       "    }\n",
       "\n",
       "    .dataframe tbody tr th {\n",
       "        vertical-align: top;\n",
       "    }\n",
       "\n",
       "    .dataframe thead th {\n",
       "        text-align: right;\n",
       "    }\n",
       "</style>\n",
       "<table border=\"1\" class=\"dataframe\">\n",
       "  <thead>\n",
       "    <tr style=\"text-align: right;\">\n",
       "      <th></th>\n",
       "      <th>pfs_design_id</th>\n",
       "      <th>visit0</th>\n",
       "      <th>fiber_id</th>\n",
       "      <th>pfi_center_final_x_mm</th>\n",
       "      <th>pfi_center_final_y_mm</th>\n",
       "      <th>is_on_source</th>\n",
       "    </tr>\n",
       "  </thead>\n",
       "  <tbody>\n",
       "    <tr>\n",
       "      <th>0</th>\n",
       "      <td>42</td>\n",
       "      <td>12345</td>\n",
       "      <td>0</td>\n",
       "      <td>-9.970267</td>\n",
       "      <td>-1.007359</td>\n",
       "      <td>True</td>\n",
       "    </tr>\n",
       "    <tr>\n",
       "      <th>1</th>\n",
       "      <td>42</td>\n",
       "      <td>12345</td>\n",
       "      <td>1</td>\n",
       "      <td>-14.545673</td>\n",
       "      <td>-7.489861</td>\n",
       "      <td>True</td>\n",
       "    </tr>\n",
       "    <tr>\n",
       "      <th>2</th>\n",
       "      <td>42</td>\n",
       "      <td>12345</td>\n",
       "      <td>2</td>\n",
       "      <td>-4.363844</td>\n",
       "      <td>-7.479899</td>\n",
       "      <td>True</td>\n",
       "    </tr>\n",
       "  </tbody>\n",
       "</table>\n",
       "</div>"
      ],
      "text/plain": [
       "   pfs_design_id  visit0  fiber_id  pfi_center_final_x_mm  \\\n",
       "0             42   12345         0              -9.970267   \n",
       "1             42   12345         1             -14.545673   \n",
       "2             42   12345         2              -4.363844   \n",
       "\n",
       "   pfi_center_final_y_mm  is_on_source  \n",
       "0              -1.007359          True  \n",
       "1              -7.489861          True  \n",
       "2              -7.479899          True  "
      ]
     },
     "execution_count": 27,
     "metadata": {},
     "output_type": "execute_result"
    }
   ],
   "source": [
    "df = pd.DataFrame({'pfs_design_id': [pfsDesignId for v in pfsConfig.fiberId], \n",
    "                   'visit0': [visit0 for v in pfsConfig.fiberId],\n",
    "                   'fiber_id': pfsConfig.fiberId,\n",
    "                   'pfi_center_final_x_mm': pfsConfig.pfiCenter[:,0],\n",
    "                   'pfi_center_final_y_mm': pfsConfig.pfiCenter[:,1],\n",
    "                   'is_on_source': [True for v in pfsConfig.fiberId]\n",
    "                  })\n",
    "df[:3]"
   ]
  },
  {
   "cell_type": "code",
   "execution_count": 28,
   "metadata": {},
   "outputs": [],
   "source": [
    "tab = 'pfs_config_fiber'\n",
    "try:\n",
    "    utils.insert(url, tab, df)\n",
    "except:\n",
    "    print('error')"
   ]
  },
  {
   "cell_type": "markdown",
   "metadata": {},
   "source": [
    "## populate `pfs_config_agc`"
   ]
  },
  {
   "cell_type": "code",
   "execution_count": 29,
   "metadata": {},
   "outputs": [
    {
     "data": {
      "text/html": [
       "<div>\n",
       "<style scoped>\n",
       "    .dataframe tbody tr th:only-of-type {\n",
       "        vertical-align: middle;\n",
       "    }\n",
       "\n",
       "    .dataframe tbody tr th {\n",
       "        vertical-align: top;\n",
       "    }\n",
       "\n",
       "    .dataframe thead th {\n",
       "        text-align: right;\n",
       "    }\n",
       "</style>\n",
       "<table border=\"1\" class=\"dataframe\">\n",
       "  <thead>\n",
       "    <tr style=\"text-align: right;\">\n",
       "      <th></th>\n",
       "      <th>pfs_design_id</th>\n",
       "      <th>visit0</th>\n",
       "      <th>guide_star_id</th>\n",
       "      <th>agc_camera_id</th>\n",
       "      <th>agc_final_x_pix</th>\n",
       "      <th>agc_final_y_pix</th>\n",
       "    </tr>\n",
       "  </thead>\n",
       "  <tbody>\n",
       "    <tr>\n",
       "      <th>0</th>\n",
       "      <td>42</td>\n",
       "      <td>12345</td>\n",
       "      <td>2584704</td>\n",
       "      <td>0</td>\n",
       "      <td>683.008850</td>\n",
       "      <td>803.241821</td>\n",
       "    </tr>\n",
       "    <tr>\n",
       "      <th>1</th>\n",
       "      <td>42</td>\n",
       "      <td>12345</td>\n",
       "      <td>496512</td>\n",
       "      <td>0</td>\n",
       "      <td>215.207748</td>\n",
       "      <td>857.312073</td>\n",
       "    </tr>\n",
       "    <tr>\n",
       "      <th>2</th>\n",
       "      <td>42</td>\n",
       "      <td>12345</td>\n",
       "      <td>495104</td>\n",
       "      <td>0</td>\n",
       "      <td>103.429405</td>\n",
       "      <td>680.665161</td>\n",
       "    </tr>\n",
       "  </tbody>\n",
       "</table>\n",
       "</div>"
      ],
      "text/plain": [
       "   pfs_design_id  visit0  guide_star_id  agc_camera_id  agc_final_x_pix  \\\n",
       "0             42   12345        2584704              0       683.008850   \n",
       "1             42   12345         496512              0       215.207748   \n",
       "2             42   12345         495104              0       103.429405   \n",
       "\n",
       "   agc_final_y_pix  \n",
       "0       803.241821  \n",
       "1       857.312073  \n",
       "2       680.665161  "
      ]
     },
     "execution_count": 29,
     "metadata": {},
     "output_type": "execute_result"
    }
   ],
   "source": [
    "df = pd.DataFrame({'pfs_design_id': [pfsDesignId for v in guideStars.objId], \n",
    "                   'visit0': [visit0 for v in guideStars.objId],\n",
    "                   'guide_star_id': guideStars.objId,\n",
    "                   'agc_camera_id': guideStars.agId,\n",
    "                   'agc_final_x_pix': guideStars.agX,\n",
    "                   'agc_final_y_pix': guideStars.agY,\n",
    "                  })\n",
    "df[:3]"
   ]
  },
  {
   "cell_type": "code",
   "execution_count": 30,
   "metadata": {},
   "outputs": [],
   "source": [
    "tab = 'pfs_config_agc'\n",
    "try:\n",
    "    utils.insert(url, tab, df)\n",
    "except:\n",
    "    print('error')"
   ]
  },
  {
   "cell_type": "code",
   "execution_count": null,
   "metadata": {},
   "outputs": [],
   "source": []
  },
  {
   "cell_type": "code",
   "execution_count": null,
   "metadata": {},
   "outputs": [],
   "source": []
  },
  {
   "cell_type": "code",
   "execution_count": null,
   "metadata": {},
   "outputs": [],
   "source": []
  },
  {
   "cell_type": "code",
   "execution_count": null,
   "metadata": {},
   "outputs": [],
   "source": []
  }
 ],
 "metadata": {
  "kernelspec": {
   "display_name": "Python 3",
   "language": "python",
   "name": "python3"
  },
  "language_info": {
   "codemirror_mode": {
    "name": "ipython",
    "version": 3
   },
   "file_extension": ".py",
   "mimetype": "text/x-python",
   "name": "python",
   "nbconvert_exporter": "python",
   "pygments_lexer": "ipython3",
   "version": "3.7.6"
  },
  "toc-autonumbering": true,
  "toc-showcode": false,
  "toc-showmarkdowntxt": false,
  "toc-showtags": false
 },
 "nbformat": 4,
 "nbformat_minor": 4
}
